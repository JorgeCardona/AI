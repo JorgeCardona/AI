{
 "cells": [
  {
   "cell_type": "markdown",
   "metadata": {},
   "source": [
    "# <center>Generators v2, Memory Address, Content Memory</center>"
   ]
  },
  {
   "cell_type": "code",
   "execution_count": 1,
   "metadata": {},
   "outputs": [],
   "source": [
    "# funcion a usar\n",
    "def generador (limite):\n",
    "    \n",
    "    return (x**2 for x in range(limite))"
   ]
  },
  {
   "cell_type": "code",
   "execution_count": 2,
   "metadata": {},
   "outputs": [],
   "source": [
    "import ctypes\n",
    "\n",
    "#funcion que gurada los valores generados\n",
    "def resultados (limite):\n",
    "    \n",
    "    listado_generador    = generador (limite)\n",
    "    \n",
    "    for i in range(limite):\n",
    "        valor_actual = next(listado_generador)\n",
    "        \n",
    "        direccion_en_memoria = id(valor_actual)\n",
    "        contenido_de_memoria = ctypes.cast(direccion_en_memoria, ctypes.py_object).value\n",
    "        \n",
    "        print('valor_actual',valor_actual)   \n",
    "        \n",
    "        print('listado_generador',listado_generador)\n",
    "        print('direccion en memoria',id(listado_generador))\n",
    "        print('contenido_de_memoria',contenido_de_memoria)\n",
    "        print()"
   ]
  },
  {
   "cell_type": "code",
   "execution_count": 3,
   "metadata": {},
   "outputs": [
    {
     "name": "stdout",
     "output_type": "stream",
     "text": [
      "valor_actual 0\n",
      "listado_generador <generator object generador.<locals>.<genexpr> at 0x00000131EDA82AC8>\n",
      "direccion en memoria 1313952246472\n",
      "contenido_de_memoria 0\n",
      "\n",
      "valor_actual 1\n",
      "listado_generador <generator object generador.<locals>.<genexpr> at 0x00000131EDA82AC8>\n",
      "direccion en memoria 1313952246472\n",
      "contenido_de_memoria 1\n",
      "\n",
      "valor_actual 4\n",
      "listado_generador <generator object generador.<locals>.<genexpr> at 0x00000131EDA82AC8>\n",
      "direccion en memoria 1313952246472\n",
      "contenido_de_memoria 4\n",
      "\n",
      "valor_actual 9\n",
      "listado_generador <generator object generador.<locals>.<genexpr> at 0x00000131EDA82AC8>\n",
      "direccion en memoria 1313952246472\n",
      "contenido_de_memoria 9\n",
      "\n",
      "valor_actual 16\n",
      "listado_generador <generator object generador.<locals>.<genexpr> at 0x00000131EDA82AC8>\n",
      "direccion en memoria 1313952246472\n",
      "contenido_de_memoria 16\n",
      "\n"
     ]
    }
   ],
   "source": [
    "# llamado a la funcion\n",
    "resultados (5)"
   ]
  },
  {
   "cell_type": "markdown",
   "metadata": {},
   "source": [
    "# <center>Generators v2, Memory Address, Content Memory</center>"
   ]
  },
  {
   "cell_type": "code",
   "execution_count": 4,
   "metadata": {},
   "outputs": [],
   "source": [
    "y = 123456789"
   ]
  },
  {
   "cell_type": "code",
   "execution_count": 5,
   "metadata": {},
   "outputs": [
    {
     "data": {
      "text/plain": [
       "123456789"
      ]
     },
     "execution_count": 5,
     "metadata": {},
     "output_type": "execute_result"
    }
   ],
   "source": [
    "y"
   ]
  },
  {
   "cell_type": "code",
   "execution_count": 6,
   "metadata": {},
   "outputs": [],
   "source": [
    "del y"
   ]
  },
  {
   "cell_type": "code",
   "execution_count": 7,
   "metadata": {},
   "outputs": [
    {
     "ename": "NameError",
     "evalue": "name 'y' is not defined",
     "output_type": "error",
     "traceback": [
      "\u001b[1;31m---------------------------------------------------------------------------\u001b[0m",
      "\u001b[1;31mNameError\u001b[0m                                 Traceback (most recent call last)",
      "\u001b[1;32m<ipython-input-7-9063a9f0e032>\u001b[0m in \u001b[0;36m<module>\u001b[1;34m\u001b[0m\n\u001b[1;32m----> 1\u001b[1;33m \u001b[0my\u001b[0m\u001b[1;33m\u001b[0m\u001b[1;33m\u001b[0m\u001b[0m\n\u001b[0m",
      "\u001b[1;31mNameError\u001b[0m: name 'y' is not defined"
     ]
    }
   ],
   "source": [
    "y"
   ]
  }
 ],
 "metadata": {
  "kernelspec": {
   "display_name": "Python 3",
   "language": "python",
   "name": "python3"
  },
  "language_info": {
   "codemirror_mode": {
    "name": "ipython",
    "version": 3
   },
   "file_extension": ".py",
   "mimetype": "text/x-python",
   "name": "python",
   "nbconvert_exporter": "python",
   "pygments_lexer": "ipython3",
   "version": "3.7.4"
  }
 },
 "nbformat": 4,
 "nbformat_minor": 2
}
