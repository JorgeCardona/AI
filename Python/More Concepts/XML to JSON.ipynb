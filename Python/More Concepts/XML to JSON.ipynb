{
 "cells": [
  {
   "cell_type": "code",
   "execution_count": 1,
   "metadata": {},
   "outputs": [
    {
     "data": {
      "text/html": [
       "<style>.container { width:100% !important; }</style>"
      ],
      "text/plain": [
       "<IPython.core.display.HTML object>"
      ]
     },
     "metadata": {},
     "output_type": "display_data"
    }
   ],
   "source": [
    "# configura el notebook para que las celdas tomen todo el ancho de la pantalla\n",
    "from IPython.core.display import display, HTML\n",
    "display(HTML(\"<style>.container { width:100% !important; }</style>\"))"
   ]
  },
  {
   "cell_type": "code",
   "execution_count": 2,
   "metadata": {},
   "outputs": [],
   "source": [
    "#!pip install xmltodict\n",
    "import xmltodict\n",
    "import json"
   ]
  },
  {
   "cell_type": "code",
   "execution_count": 3,
   "metadata": {},
   "outputs": [],
   "source": [
    "def read_xml(file):\n",
    "    \n",
    "    string_file = open(file).read()\n",
    "    \n",
    "    # return a string from read xml\n",
    "    return string_file   "
   ]
  },
  {
   "cell_type": "code",
   "execution_count": 4,
   "metadata": {},
   "outputs": [],
   "source": [
    "def convert_to_dict_to_json(string):\n",
    "    \n",
    "    # convert string to collections.OrderedDict\n",
    "    dict_file = xmltodict.parse(string)\n",
    "    \n",
    "    # convert collections.OrderedDict to dict\n",
    "    output_dict = json.loads(json.dumps(dict_file))\n",
    "    \n",
    "    # oder the dictionary by key\n",
    "    output_dict = dict(sorted(output_dict.items()))\n",
    "    \n",
    "    # convert dictionary to string\n",
    "    output_dict = json.dumps(output_dict)\n",
    "    \n",
    "    # convert string to json style, maybe the key has no comma\n",
    "    # then it doesn't work for quotes in a real json, \n",
    "    # and dictionary can be use quotes or without quotes for the keys.\n",
    "    output_dict = json.loads(output_dict)\n",
    "    \n",
    "    # return a dict in json style\n",
    "    return output_dict   "
   ]
  },
  {
   "cell_type": "code",
   "execution_count": 5,
   "metadata": {
    "scrolled": true
   },
   "outputs": [
    {
     "data": {
      "text/plain": [
       "'<?xml version=\"1.0\" encoding=\"ISO8859-1\" ?>\\n<CATALOG>\\n  <CDy>\\n    <x>Hide your heart</x>\\n    <y>Bonnie Tylor</y>\\n    <w>UK</w>\\n    <c>CBS Records</c>\\n    <p>9.90</p>\\n    <z>1988</z>\\n  </CDy>\\n  \\n  <CDx>\\n    <uno>Empire Burlesque</uno>\\n    <dos>Bob Dylan</dos>\\n    <tres>USA</tres>\\n    <cuatro>Columbia</cuatro>\\n    <cinco>10.90</cinco>\\n    <seis>1985</seis>\\n  </CDx>\\n  \\n  <CDs>\\n    <TITLE>Empire Burlesque</TITLE>\\n    <ARTIST>Bob Dylan</ARTIST>\\n    <COUNTRY>USA</COUNTRY>\\n    <COMPANY>Columbia</COMPANY>\\n    <PRICE>10.90</PRICE>\\n    <YEAR>1985</YEAR>\\n  </CDs>\\n  <CD>\\n    <TITLE>Hide your heart</TITLE>\\n    <ARTIST>Bonnie Tylor</ARTIST>\\n    <COUNTRY>UK</COUNTRY>\\n    <COMPANY>CBS Records</COMPANY>\\n    <PRICE>9.90</PRICE>\\n    <YEAR>1988</YEAR>\\n  </CD>\\n  <CD>\\n    <TITLE>Greatest Hits</TITLE>\\n    <ARTIST>Dolly Parton</ARTIST>\\n    <COUNTRY>USA</COUNTRY>\\n    <COMPANY>RCA</COMPANY>\\n    <PRICE>9.90</PRICE>\\n    <YEAR>1982</YEAR>\\n  </CD>\\n  <CD>\\n    <TITLE>Still got the blues</TITLE>\\n    <ARTIST>Gary More</ARTIST>\\n    <COUNTRY>UK</COUNTRY>\\n    <COMPANY>Virgin redords</COMPANY>\\n    <PRICE>10.20</PRICE>\\n    <YEAR>1990</YEAR>\\n  </CD>\\n  <CD>\\n    <TITLE>Eros</TITLE>\\n    <ARTIST>Eros Ramazzotti</ARTIST>\\n    <COUNTRY>EU</COUNTRY>\\n    <COMPANY>BMG</COMPANY>\\n    <PRICE>9.90</PRICE>\\n    <YEAR>1997</YEAR>\\n  </CD>\\n  <CD>\\n    <TITLE>One night only</TITLE>\\n    <ARTIST>Bee Gees</ARTIST>\\n    <COUNTRY>UK</COUNTRY>\\n    <COMPANY>Polydor</COMPANY>\\n    <PRICE>10.90</PRICE>\\n    <YEAR>1998</YEAR>\\n  </CD>\\n  <CD>\\n    <TITLE>Sylvias Mother</TITLE>\\n    <ARTIST>Dr.Hook</ARTIST>\\n    <COUNTRY>UK</COUNTRY>\\n    <COMPANY>CBS</COMPANY>\\n    <PRICE>8.10</PRICE>\\n    <YEAR>1973</YEAR>\\n  </CD>\\n  <CD>\\n    <TITLE>Maggie May</TITLE>\\n    <ARTIST>Rod Stewart</ARTIST>\\n    <COUNTRY>UK</COUNTRY>\\n    <COMPANY>Pickwick</COMPANY>\\n    <PRICE>8.50</PRICE>\\n    <YEAR>1990</YEAR>\\n  </CD>\\n  <CD>\\n    <TITLE>Romanza</TITLE>\\n    <ARTIST>Andrea Bocelli</ARTIST>\\n    <COUNTRY>EU</COUNTRY>\\n    <COMPANY>Polydor</COMPANY>\\n    <PRICE>10.80</PRICE>\\n    <YEAR>1996</YEAR>\\n  </CD>\\n  <CD>\\n    <TITLE>When a man loves a woman</TITLE>\\n    <ARTIST>Percy Sledge</ARTIST>\\n    <COUNTRY>USA</COUNTRY>\\n    <COMPANY>Atlantic</COMPANY>\\n    <PRICE>8.70</PRICE>\\n    <YEAR>1987</YEAR>\\n  </CD>\\n  <CD>\\n    <TITLE>Black angel</TITLE>\\n    <ARTIST>Savage Rose</ARTIST>\\n    <COUNTRY>EU</COUNTRY>\\n    <COMPANY>Mega</COMPANY>\\n    <PRICE>10.90</PRICE>\\n    <YEAR>1995</YEAR>\\n  </CD>\\n  <CD>\\n    <TITLE>1999 Grammy Nominees</TITLE>\\n    <ARTIST>Many</ARTIST>\\n    <COUNTRY>USA</COUNTRY>\\n    <COMPANY>Grammy</COMPANY>\\n    <PRICE>10.20</PRICE>\\n    <YEAR>1999</YEAR>\\n  </CD>\\n  <CD>\\n    <TITLE>For the good times</TITLE>\\n    <ARTIST>Kenny Rogers</ARTIST>\\n    <COUNTRY>UK</COUNTRY>\\n    <COMPANY>Mucik Master</COMPANY>\\n    <PRICE>8.70</PRICE>\\n    <YEAR>1995</YEAR>\\n  </CD>\\n  <CD>\\n    <TITLE>Big Willie style</TITLE>\\n    <ARTIST>Will Smith</ARTIST>\\n    <COUNTRY>USA</COUNTRY>\\n    <COMPANY>Columbia</COMPANY>\\n    <PRICE>9.90</PRICE>\\n    <YEAR>1997</YEAR>\\n  </CD>\\n  <CD>\\n    <TITLE>Tupelo Honey</TITLE>\\n    <ARTIST>Van Morrison</ARTIST>\\n    <COUNTRY>UK</COUNTRY>\\n    <COMPANY>Polydor</COMPANY>\\n    <PRICE>8.20</PRICE>\\n    <YEAR>1971</YEAR>\\n  </CD>\\n  <CD>\\n    <TITLE>Soulsville</TITLE>\\n    <ARTIST>Jorn Hoel</ARTIST>\\n    <COUNTRY>Norway</COUNTRY>\\n    <COMPANY>WEA</COMPANY>\\n    <PRICE>7.90</PRICE>\\n    <YEAR>1996</YEAR>\\n  </CD>\\n  <CD>\\n    <TITLE>The very best of</TITLE>\\n    <ARTIST>Cat Stevens</ARTIST>\\n    <COUNTRY>UK</COUNTRY>\\n    <COMPANY>Island</COMPANY>\\n    <PRICE>8.90</PRICE>\\n    <YEAR>1990</YEAR>\\n  </CD>\\n  <CD>\\n    <TITLE>Stop</TITLE>\\n    <ARTIST>Sam Brown</ARTIST>\\n    <COUNTRY>UK</COUNTRY>\\n    <COMPANY>A and M</COMPANY>\\n    <PRICE>8.90</PRICE>\\n    <YEAR>1988</YEAR>\\n  </CD>\\n  <CD>\\n    <TITLE>Bridge of Spies</TITLE>\\n    <ARTIST>T`Pau</ARTIST>\\n    <COUNTRY>UK</COUNTRY>\\n    <COMPANY>Siren</COMPANY>\\n    <PRICE>7.90</PRICE>\\n    <YEAR>1987</YEAR>\\n  </CD>\\n  <CD>\\n    <TITLE>Private Dancer</TITLE>\\n    <ARTIST>Tina Turner</ARTIST>\\n    <COUNTRY>UK</COUNTRY>\\n    <COMPANY>Capitol</COMPANY>\\n    <PRICE>8.90</PRICE>\\n    <YEAR>1983</YEAR>\\n  </CD>\\n  <CD>\\n    <TITLE>Midt om natten</TITLE>\\n    <ARTIST>Kim Larsen</ARTIST>\\n    <COUNTRY>EU</COUNTRY>\\n    <COMPANY>Medley</COMPANY>\\n    <PRICE>7.80</PRICE>\\n    <YEAR>1983</YEAR>\\n  </CD>\\n  <CD>\\n    <TITLE>Pavarotti Gala Concert</TITLE>\\n    <ARTIST>Luciano Pavarotti</ARTIST>\\n    <COUNTRY>UK</COUNTRY>\\n    <COMPANY>DECCA</COMPANY>\\n    <PRICE>9.90</PRICE>\\n    <YEAR>1991</YEAR>\\n  </CD>\\n  <CD>\\n    <TITLE>The dock of the bay</TITLE>\\n    <ARTIST>Otis Redding</ARTIST>\\n    <COUNTRY>USA</COUNTRY>\\n    <COMPANY>Atlantic</COMPANY>\\n    <PRICE>7.90</PRICE>\\n    <YEAR>1987</YEAR>\\n  </CD>\\n  <CD>\\n    <TITLE>Picture book</TITLE>\\n    <ARTIST>Simply Red</ARTIST>\\n    <COUNTRY>EU</COUNTRY>\\n    <COMPANY>Elektra</COMPANY>\\n    <PRICE>7.20</PRICE>\\n    <YEAR>1985</YEAR>\\n  </CD>\\n  <CD>\\n    <TITLE>Red</TITLE>\\n    <ARTIST>The Communards</ARTIST>\\n    <COUNTRY>UK</COUNTRY>\\n    <COMPANY>London</COMPANY>\\n    <PRICE>7.80</PRICE>\\n    <YEAR>1987</YEAR>\\n  </CD>\\n  <CD>\\n    <TITLE>Unchain my heart</TITLE>\\n    <ARTIST>Joe Cocker</ARTIST>\\n    <COUNTRY>USA</COUNTRY>\\n    <COMPANY>EMI</COMPANY>\\n    <PRICE>8.20</PRICE>\\n    <YEAR>1987</YEAR>\\n  </CD>\\n</CATALOG>   '"
      ]
     },
     "execution_count": 5,
     "metadata": {},
     "output_type": "execute_result"
    }
   ],
   "source": [
    "content = read_xml(\"data.xml\")\n",
    "content"
   ]
  },
  {
   "cell_type": "code",
   "execution_count": 6,
   "metadata": {},
   "outputs": [
    {
     "data": {
      "text/plain": [
       "{'CATALOG': {'CDy': {'x': 'Hide your heart',\n",
       "   'y': 'Bonnie Tylor',\n",
       "   'w': 'UK',\n",
       "   'c': 'CBS Records',\n",
       "   'p': '9.90',\n",
       "   'z': '1988'},\n",
       "  'CDx': {'uno': 'Empire Burlesque',\n",
       "   'dos': 'Bob Dylan',\n",
       "   'tres': 'USA',\n",
       "   'cuatro': 'Columbia',\n",
       "   'cinco': '10.90',\n",
       "   'seis': '1985'},\n",
       "  'CDs': {'TITLE': 'Empire Burlesque',\n",
       "   'ARTIST': 'Bob Dylan',\n",
       "   'COUNTRY': 'USA',\n",
       "   'COMPANY': 'Columbia',\n",
       "   'PRICE': '10.90',\n",
       "   'YEAR': '1985'},\n",
       "  'CD': [{'TITLE': 'Hide your heart',\n",
       "    'ARTIST': 'Bonnie Tylor',\n",
       "    'COUNTRY': 'UK',\n",
       "    'COMPANY': 'CBS Records',\n",
       "    'PRICE': '9.90',\n",
       "    'YEAR': '1988'},\n",
       "   {'TITLE': 'Greatest Hits',\n",
       "    'ARTIST': 'Dolly Parton',\n",
       "    'COUNTRY': 'USA',\n",
       "    'COMPANY': 'RCA',\n",
       "    'PRICE': '9.90',\n",
       "    'YEAR': '1982'},\n",
       "   {'TITLE': 'Still got the blues',\n",
       "    'ARTIST': 'Gary More',\n",
       "    'COUNTRY': 'UK',\n",
       "    'COMPANY': 'Virgin redords',\n",
       "    'PRICE': '10.20',\n",
       "    'YEAR': '1990'},\n",
       "   {'TITLE': 'Eros',\n",
       "    'ARTIST': 'Eros Ramazzotti',\n",
       "    'COUNTRY': 'EU',\n",
       "    'COMPANY': 'BMG',\n",
       "    'PRICE': '9.90',\n",
       "    'YEAR': '1997'},\n",
       "   {'TITLE': 'One night only',\n",
       "    'ARTIST': 'Bee Gees',\n",
       "    'COUNTRY': 'UK',\n",
       "    'COMPANY': 'Polydor',\n",
       "    'PRICE': '10.90',\n",
       "    'YEAR': '1998'},\n",
       "   {'TITLE': 'Sylvias Mother',\n",
       "    'ARTIST': 'Dr.Hook',\n",
       "    'COUNTRY': 'UK',\n",
       "    'COMPANY': 'CBS',\n",
       "    'PRICE': '8.10',\n",
       "    'YEAR': '1973'},\n",
       "   {'TITLE': 'Maggie May',\n",
       "    'ARTIST': 'Rod Stewart',\n",
       "    'COUNTRY': 'UK',\n",
       "    'COMPANY': 'Pickwick',\n",
       "    'PRICE': '8.50',\n",
       "    'YEAR': '1990'},\n",
       "   {'TITLE': 'Romanza',\n",
       "    'ARTIST': 'Andrea Bocelli',\n",
       "    'COUNTRY': 'EU',\n",
       "    'COMPANY': 'Polydor',\n",
       "    'PRICE': '10.80',\n",
       "    'YEAR': '1996'},\n",
       "   {'TITLE': 'When a man loves a woman',\n",
       "    'ARTIST': 'Percy Sledge',\n",
       "    'COUNTRY': 'USA',\n",
       "    'COMPANY': 'Atlantic',\n",
       "    'PRICE': '8.70',\n",
       "    'YEAR': '1987'},\n",
       "   {'TITLE': 'Black angel',\n",
       "    'ARTIST': 'Savage Rose',\n",
       "    'COUNTRY': 'EU',\n",
       "    'COMPANY': 'Mega',\n",
       "    'PRICE': '10.90',\n",
       "    'YEAR': '1995'},\n",
       "   {'TITLE': '1999 Grammy Nominees',\n",
       "    'ARTIST': 'Many',\n",
       "    'COUNTRY': 'USA',\n",
       "    'COMPANY': 'Grammy',\n",
       "    'PRICE': '10.20',\n",
       "    'YEAR': '1999'},\n",
       "   {'TITLE': 'For the good times',\n",
       "    'ARTIST': 'Kenny Rogers',\n",
       "    'COUNTRY': 'UK',\n",
       "    'COMPANY': 'Mucik Master',\n",
       "    'PRICE': '8.70',\n",
       "    'YEAR': '1995'},\n",
       "   {'TITLE': 'Big Willie style',\n",
       "    'ARTIST': 'Will Smith',\n",
       "    'COUNTRY': 'USA',\n",
       "    'COMPANY': 'Columbia',\n",
       "    'PRICE': '9.90',\n",
       "    'YEAR': '1997'},\n",
       "   {'TITLE': 'Tupelo Honey',\n",
       "    'ARTIST': 'Van Morrison',\n",
       "    'COUNTRY': 'UK',\n",
       "    'COMPANY': 'Polydor',\n",
       "    'PRICE': '8.20',\n",
       "    'YEAR': '1971'},\n",
       "   {'TITLE': 'Soulsville',\n",
       "    'ARTIST': 'Jorn Hoel',\n",
       "    'COUNTRY': 'Norway',\n",
       "    'COMPANY': 'WEA',\n",
       "    'PRICE': '7.90',\n",
       "    'YEAR': '1996'},\n",
       "   {'TITLE': 'The very best of',\n",
       "    'ARTIST': 'Cat Stevens',\n",
       "    'COUNTRY': 'UK',\n",
       "    'COMPANY': 'Island',\n",
       "    'PRICE': '8.90',\n",
       "    'YEAR': '1990'},\n",
       "   {'TITLE': 'Stop',\n",
       "    'ARTIST': 'Sam Brown',\n",
       "    'COUNTRY': 'UK',\n",
       "    'COMPANY': 'A and M',\n",
       "    'PRICE': '8.90',\n",
       "    'YEAR': '1988'},\n",
       "   {'TITLE': 'Bridge of Spies',\n",
       "    'ARTIST': 'T`Pau',\n",
       "    'COUNTRY': 'UK',\n",
       "    'COMPANY': 'Siren',\n",
       "    'PRICE': '7.90',\n",
       "    'YEAR': '1987'},\n",
       "   {'TITLE': 'Private Dancer',\n",
       "    'ARTIST': 'Tina Turner',\n",
       "    'COUNTRY': 'UK',\n",
       "    'COMPANY': 'Capitol',\n",
       "    'PRICE': '8.90',\n",
       "    'YEAR': '1983'},\n",
       "   {'TITLE': 'Midt om natten',\n",
       "    'ARTIST': 'Kim Larsen',\n",
       "    'COUNTRY': 'EU',\n",
       "    'COMPANY': 'Medley',\n",
       "    'PRICE': '7.80',\n",
       "    'YEAR': '1983'},\n",
       "   {'TITLE': 'Pavarotti Gala Concert',\n",
       "    'ARTIST': 'Luciano Pavarotti',\n",
       "    'COUNTRY': 'UK',\n",
       "    'COMPANY': 'DECCA',\n",
       "    'PRICE': '9.90',\n",
       "    'YEAR': '1991'},\n",
       "   {'TITLE': 'The dock of the bay',\n",
       "    'ARTIST': 'Otis Redding',\n",
       "    'COUNTRY': 'USA',\n",
       "    'COMPANY': 'Atlantic',\n",
       "    'PRICE': '7.90',\n",
       "    'YEAR': '1987'},\n",
       "   {'TITLE': 'Picture book',\n",
       "    'ARTIST': 'Simply Red',\n",
       "    'COUNTRY': 'EU',\n",
       "    'COMPANY': 'Elektra',\n",
       "    'PRICE': '7.20',\n",
       "    'YEAR': '1985'},\n",
       "   {'TITLE': 'Red',\n",
       "    'ARTIST': 'The Communards',\n",
       "    'COUNTRY': 'UK',\n",
       "    'COMPANY': 'London',\n",
       "    'PRICE': '7.80',\n",
       "    'YEAR': '1987'},\n",
       "   {'TITLE': 'Unchain my heart',\n",
       "    'ARTIST': 'Joe Cocker',\n",
       "    'COUNTRY': 'USA',\n",
       "    'COMPANY': 'EMI',\n",
       "    'PRICE': '8.20',\n",
       "    'YEAR': '1987'}]}}"
      ]
     },
     "execution_count": 6,
     "metadata": {},
     "output_type": "execute_result"
    }
   ],
   "source": [
    "my_dict = convert_to_dict_to_json(content)\n",
    "my_dict"
   ]
  }
 ],
 "metadata": {
  "kernelspec": {
   "display_name": "Python 3",
   "language": "python",
   "name": "python3"
  },
  "language_info": {
   "codemirror_mode": {
    "name": "ipython",
    "version": 3
   },
   "file_extension": ".py",
   "mimetype": "text/x-python",
   "name": "python",
   "nbconvert_exporter": "python",
   "pygments_lexer": "ipython3",
   "version": "3.7.4"
  }
 },
 "nbformat": 4,
 "nbformat_minor": 2
}
