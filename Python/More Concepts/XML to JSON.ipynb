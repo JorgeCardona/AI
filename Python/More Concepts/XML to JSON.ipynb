{
 "cells": [
  {
   "cell_type": "code",
   "execution_count": 1,
   "metadata": {},
   "outputs": [],
   "source": [
    "#!pip install xmltodict\n",
    "import xmltodict\n",
    "import json"
   ]
  },
  {
   "cell_type": "code",
   "execution_count": 2,
   "metadata": {},
   "outputs": [],
   "source": [
    "def read_xml(file):\n",
    "    \n",
    "    string_file = open(file).read()\n",
    "    \n",
    "    # return a string from read xml\n",
    "    return string_file   "
   ]
  },
  {
   "cell_type": "code",
   "execution_count": 3,
   "metadata": {},
   "outputs": [],
   "source": [
    "def convert_to_dict(string):\n",
    "    \n",
    "    # convert string to collections.OrderedDict\n",
    "    order_dict_file = xmltodict.parse(string)\n",
    "    \n",
    "    # convert collections.OrderedDict to dict\n",
    "    output_dict = json.loads(json.dumps(order_dict_file))\n",
    "    \n",
    "    # return a dict from string\n",
    "    return output_dict   "
   ]
  },
  {
   "cell_type": "code",
   "execution_count": 4,
   "metadata": {
    "scrolled": true
   },
   "outputs": [],
   "source": [
    "content = read_xml(\"data.xml\")\n",
    "content"
   ]
  },
  {
   "cell_type": "code",
   "execution_count": 5,
   "metadata": {},
   "outputs": [],
   "source": [
    "my_dict = convert_to_dict(content)\n",
    "my_dict"
   ]
  }
 ],
 "metadata": {
  "kernelspec": {
   "display_name": "Python 3",
   "language": "python",
   "name": "python3"
  },
  "language_info": {
   "codemirror_mode": {
    "name": "ipython",
    "version": 3
   },
   "file_extension": ".py",
   "mimetype": "text/x-python",
   "name": "python",
   "nbconvert_exporter": "python",
   "pygments_lexer": "ipython3",
   "version": "3.7.4"
  }
 },
 "nbformat": 4,
 "nbformat_minor": 2
}
