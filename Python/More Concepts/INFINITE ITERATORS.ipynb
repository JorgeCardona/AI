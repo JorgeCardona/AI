{
 "cells": [
  {
   "cell_type": "markdown",
   "metadata": {},
   "source": [
    "<center><h1>INFINITE ITERATORS</h1></center>"
   ]
  },
  {
   "cell_type": "code",
   "execution_count": 1,
   "metadata": {},
   "outputs": [],
   "source": [
    "from itertools import count\n",
    "from itertools import cycle\n",
    "from itertools import repeat\n",
    "import random\n",
    "import string"
   ]
  },
  {
   "cell_type": "code",
   "execution_count": 2,
   "metadata": {},
   "outputs": [
    {
     "data": {
      "text/plain": [
       "'WOp0#F{sI&'"
      ]
     },
     "execution_count": 2,
     "metadata": {},
     "output_type": "execute_result"
    }
   ],
   "source": [
    "# generate phrase fro iteration\n",
    "def phrase(lenght=10):\n",
    "    \n",
    "    letters = string.printable\n",
    "    \n",
    "    # return the string\n",
    "    return ''.join(random.choice(letters) for i in range(lenght))\n",
    "\n",
    "# the phrase use for iteration\n",
    "phrase = phrase()\n",
    "\n",
    "# lenght of string\n",
    "size = len(phrase)\n",
    "\n",
    "# number of changes\n",
    "level = 2\n",
    "\n",
    "phrase"
   ]
  },
  {
   "cell_type": "code",
   "execution_count": 3,
   "metadata": {},
   "outputs": [],
   "source": [
    "# print the iterator's content\n",
    "def show_content(data):\n",
    "    \n",
    "    data_list = []\n",
    "    \n",
    "    for i in data:\n",
    "        if len(data_list) < size:\n",
    "            data_list.append(i)\n",
    "            print(i , end =' & ')\n",
    "        else:\n",
    "            break\n",
    "    \n",
    "# return the iterator    \n",
    "def iterator (selected_iterator):\n",
    "    \n",
    "    return selected_iterator"
   ]
  },
  {
   "cell_type": "markdown",
   "metadata": {},
   "source": [
    "<center><h3>COUNT</h3></center>"
   ]
  },
  {
   "cell_type": "code",
   "execution_count": 4,
   "metadata": {},
   "outputs": [
    {
     "data": {
      "text/plain": [
       "itertools.count"
      ]
     },
     "execution_count": 4,
     "metadata": {},
     "output_type": "execute_result"
    }
   ],
   "source": [
    "x = iterator(count)\n",
    "x"
   ]
  },
  {
   "cell_type": "code",
   "execution_count": 5,
   "metadata": {},
   "outputs": [
    {
     "name": "stdout",
     "output_type": "stream",
     "text": [
      "10 & 17 & 24 & 31 & 38 & 45 & 52 & 59 & 66 & 73 & "
     ]
    }
   ],
   "source": [
    "show_content(x(size,random.randrange(size)))"
   ]
  },
  {
   "cell_type": "markdown",
   "metadata": {},
   "source": [
    "<center><h3>CYCLE</h3></center>"
   ]
  },
  {
   "cell_type": "code",
   "execution_count": 6,
   "metadata": {},
   "outputs": [
    {
     "data": {
      "text/plain": [
       "itertools.cycle"
      ]
     },
     "execution_count": 6,
     "metadata": {},
     "output_type": "execute_result"
    }
   ],
   "source": [
    "x = iterator(cycle)\n",
    "x"
   ]
  },
  {
   "cell_type": "code",
   "execution_count": 7,
   "metadata": {},
   "outputs": [
    {
     "name": "stdout",
     "output_type": "stream",
     "text": [
      "W & O & p & 0 & # & F & { & s & I & & & "
     ]
    }
   ],
   "source": [
    "show_content(x(phrase))"
   ]
  },
  {
   "cell_type": "markdown",
   "metadata": {},
   "source": [
    "<center><h3>REPEAT</h3></center>"
   ]
  },
  {
   "cell_type": "code",
   "execution_count": 8,
   "metadata": {},
   "outputs": [
    {
     "data": {
      "text/plain": [
       "itertools.repeat"
      ]
     },
     "execution_count": 8,
     "metadata": {},
     "output_type": "execute_result"
    }
   ],
   "source": [
    "x = iterator(repeat)\n",
    "x"
   ]
  },
  {
   "cell_type": "code",
   "execution_count": 9,
   "metadata": {},
   "outputs": [
    {
     "name": "stdout",
     "output_type": "stream",
     "text": [
      "WOp0#F{sI& & WOp0#F{sI& & "
     ]
    }
   ],
   "source": [
    "show_content(x(phrase, level))"
   ]
  }
 ],
 "metadata": {
  "kernelspec": {
   "display_name": "Python 3",
   "language": "python",
   "name": "python3"
  },
  "language_info": {
   "codemirror_mode": {
    "name": "ipython",
    "version": 3
   },
   "file_extension": ".py",
   "mimetype": "text/x-python",
   "name": "python",
   "nbconvert_exporter": "python",
   "pygments_lexer": "ipython3",
   "version": "3.7.4"
  }
 },
 "nbformat": 4,
 "nbformat_minor": 2
}
