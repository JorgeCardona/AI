{
 "cells": [
  {
   "cell_type": "code",
   "execution_count": 1,
   "metadata": {},
   "outputs": [],
   "source": [
    "from jsonschema import validate\n",
    "\n",
    "def validar_json(patron_base_json, info_json_a_validar):\n",
    "    \n",
    "    try:        \n",
    "        validacion = validate(schema=patron_base_json, instance=info_json_a_validar)\n",
    "        \n",
    "        return True\n",
    "    \n",
    "    except Exception as err:\n",
    "\n",
    "        print(err)\n",
    "        \n",
    "        return False"
   ]
  },
  {
   "cell_type": "code",
   "execution_count": 2,
   "metadata": {},
   "outputs": [],
   "source": [
    "patron_base_json = {\n",
    "    \"type\" : \"object\",\n",
    "    \"properties\" : {\n",
    "        \"name\" : {\"type\" : \"string\"},\n",
    "        \"email\" : {\"type\" : \"string\", \"pattern\": \"[a-zA-Z]{1}[\\W]*@[a-zA-Z]{1}[\\w]*[\\W]*[.][a-zA-Z]{2,4}[.][a-zA-Z]{2,4}$\" },\n",
    "        \"phone\" : {\"type\" : \"number\"},\n",
    "        \n",
    "    },\n",
    "    \"required\":[\"email\"]\n",
    "}\n",
    "\n",
    "info_json_a_validar = {\n",
    "    \"email\" : 'validar_json@web.com.co',  \n",
    "}"
   ]
  },
  {
   "cell_type": "markdown",
   "metadata": {},
   "source": [
    "# <center> Validacion de una cadena tipo email con basado expresion regular </center>"
   ]
  },
  {
   "cell_type": "code",
   "execution_count": 3,
   "metadata": {},
   "outputs": [
    {
     "data": {
      "text/plain": [
       "True"
      ]
     },
     "execution_count": 3,
     "metadata": {},
     "output_type": "execute_result"
    }
   ],
   "source": [
    "validar_json(patron_base_json, info_json_a_validar)"
   ]
  },
  {
   "cell_type": "markdown",
   "metadata": {},
   "source": [
    "# <center> Validacion fallida de una cadena tipo email con basado expresion regular </center>"
   ]
  },
  {
   "cell_type": "code",
   "execution_count": 4,
   "metadata": {},
   "outputs": [
    {
     "name": "stdout",
     "output_type": "stream",
     "text": [
      "'a@t***.com.coererr' does not match '[a-zA-Z]{1}[\\\\W]*@[a-zA-Z]{1}[\\\\w]*[\\\\W]*[.][a-zA-Z]{2,4}[.][a-zA-Z]{2,4}$'\n",
      "\n",
      "Failed validating 'pattern' in schema['properties']['email']:\n",
      "    {'pattern': '[a-zA-Z]{1}[\\\\W]*@[a-zA-Z]{1}[\\\\w]*[\\\\W]*[.][a-zA-Z]{2,4}[.][a-zA-Z]{2,4}$',\n",
      "     'type': 'string'}\n",
      "\n",
      "On instance['email']:\n",
      "    'a@t***.com.coererr'\n"
     ]
    },
    {
     "data": {
      "text/plain": [
       "False"
      ]
     },
     "execution_count": 4,
     "metadata": {},
     "output_type": "execute_result"
    }
   ],
   "source": [
    "info_json_a_validar = {\n",
    "    \"email\" : 'a@t***.com.coererr',  \n",
    "}\n",
    "\n",
    "validar_json(patron_base_json, info_json_a_validar)"
   ]
  },
  {
   "cell_type": "markdown",
   "metadata": {},
   "source": [
    "# <center> Validacion de los campos de un JSON </center>"
   ]
  },
  {
   "cell_type": "code",
   "execution_count": 5,
   "metadata": {},
   "outputs": [
    {
     "name": "stdout",
     "output_type": "stream",
     "text": [
      "'name' is a required property\n",
      "\n",
      "Failed validating 'required' in schema:\n",
      "    {'properties': {'email': {'pattern': '[a-zA-Z]{1}[\\\\W]*@[a-zA-Z]{1}[\\\\W]*[\\\\w]*[.][a-zA-Z]{2,4}[.][a-zA-Z]{2,4}$',\n",
      "                              'type': 'string'},\n",
      "                    'name': {'type': 'string'},\n",
      "                    'phone': {'maxLength': 5,\n",
      "                              'minLength': 3,\n",
      "                              'type': 'number'}},\n",
      "     'required': ['name', 'phone', 'email'],\n",
      "     'type': 'object'}\n",
      "\n",
      "On instance:\n",
      "    {'email': 'validar_json@web.com.co'}\n"
     ]
    },
    {
     "data": {
      "text/plain": [
       "False"
      ]
     },
     "execution_count": 5,
     "metadata": {},
     "output_type": "execute_result"
    }
   ],
   "source": [
    "patron_base_json = {\n",
    "    \"type\" : \"object\",\n",
    "    \"properties\" : {\n",
    "        \"name\" : {\"type\" : \"string\"},\n",
    "        \"email\" : {\"type\" : \"string\", \"pattern\": \"[a-zA-Z]{1}[\\W]*@[a-zA-Z]{1}[\\W]*[\\w]*[.][a-zA-Z]{2,4}[.][a-zA-Z]{2,4}$\" },\n",
    "        \"phone\" : {\"type\" : \"number\",   \"minLength\": 3, \"maxLength\": 5},        \n",
    "    },\n",
    "    \"required\":[\"name\",\"phone\",\"email\"]\n",
    "}\n",
    "\n",
    "info_json_a_validar = {\n",
    "    \"email\" : 'validar_json@web.com.co',  \n",
    "}\n",
    "\n",
    "validar_json(patron_base_json, info_json_a_validar)"
   ]
  },
  {
   "cell_type": "markdown",
   "metadata": {},
   "source": [
    "# <center> Validacion de los tipos de datos de los campos de un JSON </center>"
   ]
  },
  {
   "cell_type": "code",
   "execution_count": 6,
   "metadata": {},
   "outputs": [
    {
     "name": "stdout",
     "output_type": "stream",
     "text": [
      "'9876' is not of type 'number'\n",
      "\n",
      "Failed validating 'type' in schema['properties']['phone']:\n",
      "    {'maxLength': 5, 'minLength': 3, 'type': 'number'}\n",
      "\n",
      "On instance['phone']:\n",
      "    '9876'\n"
     ]
    },
    {
     "data": {
      "text/plain": [
       "False"
      ]
     },
     "execution_count": 6,
     "metadata": {},
     "output_type": "execute_result"
    }
   ],
   "source": [
    "info_json_a_validar = {\n",
    "    \"name\" : \"John Smith\",\n",
    "    \"email\" : 'validar_json@web.com.co',  \n",
    "    \"phone\" : \"9876\"\n",
    "}\n",
    "\n",
    "validar_json(patron_base_json, info_json_a_validar)"
   ]
  },
  {
   "cell_type": "markdown",
   "metadata": {},
   "source": [
    "# <center> Validacion el tamaño de los campos de un JSON </center>"
   ]
  },
  {
   "cell_type": "code",
   "execution_count": 7,
   "metadata": {},
   "outputs": [
    {
     "data": {
      "text/plain": [
       "True"
      ]
     },
     "execution_count": 7,
     "metadata": {},
     "output_type": "execute_result"
    }
   ],
   "source": [
    "info_json_a_validar = {\n",
    "    \"name\" : \"John Smith\",\n",
    "    \"email\" : 'validar_json@web.com.co',  \n",
    "    \"phone\" : 1234\n",
    "}\n",
    "\n",
    "validar_json(patron_base_json, info_json_a_validar)"
   ]
  }
 ],
 "metadata": {
  "kernelspec": {
   "display_name": "Python 3",
   "language": "python",
   "name": "python3"
  },
  "language_info": {
   "codemirror_mode": {
    "name": "ipython",
    "version": 3
   },
   "file_extension": ".py",
   "mimetype": "text/x-python",
   "name": "python",
   "nbconvert_exporter": "python",
   "pygments_lexer": "ipython3",
   "version": "3.7.4"
  }
 },
 "nbformat": 4,
 "nbformat_minor": 2
}
