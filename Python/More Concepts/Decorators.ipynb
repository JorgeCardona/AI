{
 "cells": [
  {
   "cell_type": "markdown",
   "metadata": {},
   "source": [
    "# <center> DECORATORS</center>"
   ]
  },
  {
   "cell_type": "markdown",
   "metadata": {},
   "source": [
    "# <center> FUNCIÓN DECORADORA</center>"
   ]
  },
  {
   "cell_type": "code",
   "execution_count": 1,
   "metadata": {},
   "outputs": [],
   "source": [
    "def funcion_decoradora(funcion):\n",
    "    \n",
    "    def mostrar(*args, **kwargs):\n",
    "        print('Inicio Proceso')\n",
    "        funcion(*args, **kwargs)\n",
    "        print('Finalizo Proceso')\n",
    "    \n",
    "    # retorna la funcion con su ejecucion    \n",
    "    return mostrar"
   ]
  },
  {
   "cell_type": "markdown",
   "metadata": {},
   "source": [
    "# <center> FUNCIÓN QUE SE VA A DECORAR</center>"
   ]
  },
  {
   "cell_type": "code",
   "execution_count": 2,
   "metadata": {},
   "outputs": [],
   "source": [
    "@funcion_decoradora\n",
    "def valor_al_cuadrado(n):\n",
    "    \n",
    "    print('Ejecutó la función decorada con un resultado de ',n**2)"
   ]
  },
  {
   "cell_type": "code",
   "execution_count": 3,
   "metadata": {},
   "outputs": [
    {
     "name": "stdout",
     "output_type": "stream",
     "text": [
      "Inicio Proceso\n",
      "Ejecutó la función decorada con un resultado de  144\n",
      "Finalizo Proceso\n"
     ]
    }
   ],
   "source": [
    "valor_al_cuadrado(12)"
   ]
  }
 ],
 "metadata": {
  "kernelspec": {
   "display_name": "Python 3",
   "language": "python",
   "name": "python3"
  },
  "language_info": {
   "codemirror_mode": {
    "name": "ipython",
    "version": 3
   },
   "file_extension": ".py",
   "mimetype": "text/x-python",
   "name": "python",
   "nbconvert_exporter": "python",
   "pygments_lexer": "ipython3",
   "version": "3.7.4"
  }
 },
 "nbformat": 4,
 "nbformat_minor": 4
}
