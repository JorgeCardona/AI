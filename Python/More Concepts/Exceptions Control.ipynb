{
 "cells": [
  {
   "cell_type": "markdown",
   "metadata": {},
   "source": [
    "# <center> custom exception messages </center>"
   ]
  },
  {
   "cell_type": "code",
   "execution_count": 1,
   "metadata": {},
   "outputs": [],
   "source": [
    "def raise_exception(x):\n",
    "\n",
    "    # check if exists exceptions\n",
    "    try:\n",
    "        # vakidate special casek\n",
    "        if (x == 0):\n",
    "            \n",
    "            raise Exception(\"Sorry, do not use zero value\")\n",
    "            \n",
    "        else:\n",
    "            \n",
    "            # expression to check\n",
    "            a = 100 / x\n",
    "            \n",
    "    # show the exception message          \n",
    "    except Exception as e:  \n",
    "            \n",
    "            a = -1\n",
    "            message = a, e\n",
    "            \n",
    "    # execute the code if do not ocurre exceptions             \n",
    "    else:  \n",
    "\n",
    "        message = a , \"Success, no error!\"\n",
    "\n",
    "    # return the value whatever pass \n",
    "    finally:\n",
    "        return message"
   ]
  },
  {
   "cell_type": "code",
   "execution_count": 2,
   "metadata": {},
   "outputs": [
    {
     "data": {
      "text/plain": [
       "(333, Exception('Sorry, do not use zero value'))"
      ]
     },
     "execution_count": 2,
     "metadata": {},
     "output_type": "execute_result"
    }
   ],
   "source": [
    "raise_exception(0)"
   ]
  },
  {
   "cell_type": "markdown",
   "metadata": {},
   "source": [
    "# <center> cath the error and use the response for message </center>"
   ]
  },
  {
   "cell_type": "markdown",
   "metadata": {},
   "source": [
    "# catch the exception and show the error"
   ]
  },
  {
   "cell_type": "code",
   "execution_count": 3,
   "metadata": {},
   "outputs": [],
   "source": [
    "def cath_exception(x):\n",
    "\n",
    "    # check if exists exceptions\n",
    "    try:\n",
    "        \n",
    "        # expression to check\n",
    "        a = 100 / x\n",
    "            \n",
    "    # show the exception message          \n",
    "    except Exception as e:  \n",
    "            \n",
    "            a = -1\n",
    "            message = a, e\n",
    "            \n",
    "    # execute the code if do not ocurre exceptions             \n",
    "    else:  \n",
    "\n",
    "        message = a , \"Success, no error!\"\n",
    "\n",
    "    # return the value whatever pass \n",
    "    finally:\n",
    "        return message"
   ]
  },
  {
   "cell_type": "markdown",
   "metadata": {},
   "source": [
    "# error value"
   ]
  },
  {
   "cell_type": "code",
   "execution_count": 4,
   "metadata": {},
   "outputs": [
    {
     "data": {
      "text/plain": [
       "(-1, TypeError(\"unsupported operand type(s) for /: 'int' and 'str'\"))"
      ]
     },
     "execution_count": 4,
     "metadata": {},
     "output_type": "execute_result"
    }
   ],
   "source": [
    "cath_exception('')"
   ]
  },
  {
   "cell_type": "markdown",
   "metadata": {},
   "source": [
    "# division by zero"
   ]
  },
  {
   "cell_type": "code",
   "execution_count": 5,
   "metadata": {},
   "outputs": [
    {
     "data": {
      "text/plain": [
       "(-1, ZeroDivisionError('division by zero'))"
      ]
     },
     "execution_count": 5,
     "metadata": {},
     "output_type": "execute_result"
    }
   ],
   "source": [
    "cath_exception(0)"
   ]
  },
  {
   "cell_type": "markdown",
   "metadata": {},
   "source": [
    "# division by infinite"
   ]
  },
  {
   "cell_type": "code",
   "execution_count": 6,
   "metadata": {},
   "outputs": [
    {
     "data": {
      "text/plain": [
       "(0.0, 'Success, no error!')"
      ]
     },
     "execution_count": 6,
     "metadata": {},
     "output_type": "execute_result"
    }
   ],
   "source": [
    "import math\n",
    "inf = math.inf\n",
    "\n",
    "cath_exception(inf)"
   ]
  }
 ],
 "metadata": {
  "kernelspec": {
   "display_name": "Python 3",
   "language": "python",
   "name": "python3"
  },
  "language_info": {
   "codemirror_mode": {
    "name": "ipython",
    "version": 3
   },
   "file_extension": ".py",
   "mimetype": "text/x-python",
   "name": "python",
   "nbconvert_exporter": "python",
   "pygments_lexer": "ipython3",
   "version": "3.7.4"
  }
 },
 "nbformat": 4,
 "nbformat_minor": 2
}
