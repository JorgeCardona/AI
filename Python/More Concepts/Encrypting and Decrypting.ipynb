{
 "cells": [
  {
   "cell_type": "markdown",
   "metadata": {},
   "source": [
    "# <center> Encrypting and Decrypting </center>"
   ]
  },
  {
   "cell_type": "code",
   "execution_count": 1,
   "metadata": {},
   "outputs": [],
   "source": [
    "#!pip install cryptography"
   ]
  },
  {
   "cell_type": "code",
   "execution_count": 2,
   "metadata": {},
   "outputs": [],
   "source": [
    "import cryptography\n",
    "import os"
   ]
  },
  {
   "cell_type": "code",
   "execution_count": 3,
   "metadata": {},
   "outputs": [],
   "source": [
    "from cryptography.fernet import Fernet\n",
    "# generate random key por cypher message\n",
    "key_fernet  = Fernet.generate_key()\n",
    "# generate random message with 64 characters for cypher \n",
    "message_urandom = os.urandom(64)\n",
    "\n",
    "# generate random message type string with 64 characters for cypher like type bytes\n",
    "message_urandom_bytes = str(os.urandom(64)).encode('utf-8')"
   ]
  },
  {
   "cell_type": "code",
   "execution_count": 4,
   "metadata": {},
   "outputs": [
    {
     "data": {
      "text/plain": [
       "b'QtUe5RHK2ZIOh39Ioe7pols58o13aJeIdDEZvh4srlI='"
      ]
     },
     "execution_count": 4,
     "metadata": {},
     "output_type": "execute_result"
    }
   ],
   "source": [
    "key_fernet"
   ]
  },
  {
   "cell_type": "code",
   "execution_count": 5,
   "metadata": {},
   "outputs": [
    {
     "data": {
      "text/plain": [
       "b'\"\\x9f\\x9d\\x1e\\x06m\\x80gQ\\x07=C \\xd9\\x03\\xb0$Q\\x12\\xa7\\xb6&Ek\\xc1^\\x1d\\x0c>S\\xd4\\x17\\xa18%6\\xb4\\'\\x1ev#g${\\xf9\\xb5p\\x86jw\\x0f\\xb9B?\\xf9\\xa6z\\xa8\\\\\\xe6\\xd1\\xc5!\\''"
      ]
     },
     "execution_count": 5,
     "metadata": {},
     "output_type": "execute_result"
    }
   ],
   "source": [
    "message_urandom"
   ]
  },
  {
   "cell_type": "code",
   "execution_count": 6,
   "metadata": {},
   "outputs": [
    {
     "data": {
      "text/plain": [
       "b\"b'\\\\xb4\\\\x0f\\\\xec\\\\x0e\\\\x11c\\\\xa1,\\\\x05\\\\x0c\\\\x18\\\\x83\\\\xe2\\\\xb8\\\\x1c\\\\xe5i\\\\xe3\\\\xf1\\\\xad)\\\\x08\\\\xb1\\\\xf15\\\\x7f\\\\xfc\\\\x04\\\\x19\\\\xcb/\\\\xa1\\\\xe2JN\\\\x9f\\\\x0cx)l\\\\xc6t\\\\xf1-!\\\\x810\\\\xba\\\\x96\\\\xbdG\\\\x8d{\\\\xf5v\\\\xd5@bx\\\\x99\\\\x89\\\\x0f\\\\n\\\\xb6'\""
      ]
     },
     "execution_count": 6,
     "metadata": {},
     "output_type": "execute_result"
    }
   ],
   "source": [
    "message_urandom_bytes"
   ]
  },
  {
   "cell_type": "code",
   "execution_count": 7,
   "metadata": {},
   "outputs": [],
   "source": [
    "# en\n",
    "fer = Fernet(key_fernet)"
   ]
  },
  {
   "cell_type": "code",
   "execution_count": 8,
   "metadata": {},
   "outputs": [],
   "source": [
    "# encrypted message\n",
    "encrypted_message = fer.encrypt(message_urandom)\n",
    "encrypted_message_bytes = fer.encrypt(message_urandom_bytes)"
   ]
  },
  {
   "cell_type": "code",
   "execution_count": 9,
   "metadata": {},
   "outputs": [
    {
     "data": {
      "text/plain": [
       "b'gAAAAABegnwASl5EIi1B8ZDkhqwJ3lbNdL74v6wIQJQY_Z7qHPVAcEHG0YpFc7BfOEOUJBsD8zAJVfv2klclU1W8AqRF36PfnRJ1NfOUfoxjb2r9RmUrOEW3E8iZbSEpvB9nXS3mhRr4SDGakfZzNmZRqq_-G4bx7pfPQGwjb1B2xmwP8DHygO8='"
      ]
     },
     "execution_count": 9,
     "metadata": {},
     "output_type": "execute_result"
    }
   ],
   "source": [
    "encrypted_message"
   ]
  },
  {
   "cell_type": "code",
   "execution_count": 10,
   "metadata": {},
   "outputs": [
    {
     "data": {
      "text/plain": [
       "b'gAAAAABegnwAfTc3ifEAgeEGLC1YYWiAQ_CLl2qdepJfzlwn4zHOpHgB4EguB7XwZXBHZ8XT0TDwunAyiEGWs7X9Bqt2itH9530-Xh95EqPmN2WuhZmslZr26V14fHGiU3dTDduPRz0-eBVZ8FwmZ9y2UkBNXxuQ_hBBM6iAVx65YI1NABOSbKLE4nV-zPDBoTGYsNbIza6XRjaE6VhPEezybxP1aXdXYiqBSB8kH7Rb4aZ5g6GjPYWAluaAVIquCVk_-RbUVwAFUv3BIaCWTVl0sY6PKy5iPa9cfxB9fgx6JJSxu3DpTEAhSY3XBsLtPpyy0RQ5qt4LVZikl627vtag8Ax5d_VJ8A=='"
      ]
     },
     "execution_count": 10,
     "metadata": {},
     "output_type": "execute_result"
    }
   ],
   "source": [
    "encrypted_message_bytes"
   ]
  },
  {
   "cell_type": "code",
   "execution_count": 11,
   "metadata": {},
   "outputs": [
    {
     "data": {
      "text/plain": [
       "b'\"\\x9f\\x9d\\x1e\\x06m\\x80gQ\\x07=C \\xd9\\x03\\xb0$Q\\x12\\xa7\\xb6&Ek\\xc1^\\x1d\\x0c>S\\xd4\\x17\\xa18%6\\xb4\\'\\x1ev#g${\\xf9\\xb5p\\x86jw\\x0f\\xb9B?\\xf9\\xa6z\\xa8\\\\\\xe6\\xd1\\xc5!\\''"
      ]
     },
     "execution_count": 11,
     "metadata": {},
     "output_type": "execute_result"
    }
   ],
   "source": [
    "# decrypt\n",
    "fer.decrypt(encrypted_message)"
   ]
  },
  {
   "cell_type": "code",
   "execution_count": 12,
   "metadata": {},
   "outputs": [
    {
     "data": {
      "text/plain": [
       "\"b'\\\\xb4\\\\x0f\\\\xec\\\\x0e\\\\x11c\\\\xa1,\\\\x05\\\\x0c\\\\x18\\\\x83\\\\xe2\\\\xb8\\\\x1c\\\\xe5i\\\\xe3\\\\xf1\\\\xad)\\\\x08\\\\xb1\\\\xf15\\\\x7f\\\\xfc\\\\x04\\\\x19\\\\xcb/\\\\xa1\\\\xe2JN\\\\x9f\\\\x0cx)l\\\\xc6t\\\\xf1-!\\\\x810\\\\xba\\\\x96\\\\xbdG\\\\x8d{\\\\xf5v\\\\xd5@bx\\\\x99\\\\x89\\\\x0f\\\\n\\\\xb6'\""
      ]
     },
     "execution_count": 12,
     "metadata": {},
     "output_type": "execute_result"
    }
   ],
   "source": [
    "# decrypt\n",
    "fer.decrypt(encrypted_message_bytes).decode('utf-8')"
   ]
  }
 ],
 "metadata": {
  "kernelspec": {
   "display_name": "Python 3",
   "language": "python",
   "name": "python3"
  },
  "language_info": {
   "codemirror_mode": {
    "name": "ipython",
    "version": 3
   },
   "file_extension": ".py",
   "mimetype": "text/x-python",
   "name": "python",
   "nbconvert_exporter": "python",
   "pygments_lexer": "ipython3",
   "version": "3.7.4"
  }
 },
 "nbformat": 4,
 "nbformat_minor": 2
}
