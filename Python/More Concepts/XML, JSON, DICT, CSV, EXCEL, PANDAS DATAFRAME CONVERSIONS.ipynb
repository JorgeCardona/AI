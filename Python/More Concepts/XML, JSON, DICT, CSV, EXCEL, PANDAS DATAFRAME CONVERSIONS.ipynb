{
 "cells": [
  {
   "cell_type": "code",
   "execution_count": 1,
   "metadata": {},
   "outputs": [
    {
     "data": {
      "text/html": [
       "<style>.container { width:100% !important; }</style>"
      ],
      "text/plain": [
       "<IPython.core.display.HTML object>"
      ]
     },
     "metadata": {},
     "output_type": "display_data"
    }
   ],
   "source": [
    "# configura el notebook para que las celdas tomen todo el ancho de la pantalla\n",
    "from IPython.core.display import display, HTML\n",
    "display(HTML(\"<style>.container { width:100% !important; }</style>\"))"
   ]
  },
  {
   "cell_type": "code",
   "execution_count": 2,
   "metadata": {
    "scrolled": true
   },
   "outputs": [],
   "source": [
    "#!pip install xmltodict\n",
    "#!pip install json2xml\n",
    "#!pip install dicttoxml\n",
    "import xmltodict\n",
    "import json\n",
    "from dicttoxml import dicttoxml\n",
    "from json2xml.json2xml import Json2xml\n",
    "from json2xml.utils import readfromurl, readfromstring, readfromjson\n",
    "from xml.dom.minidom import parseString\n",
    "import pandas as pd"
   ]
  },
  {
   "cell_type": "code",
   "execution_count": 3,
   "metadata": {},
   "outputs": [],
   "source": [
    "xml_file_name      = \"data.xml\"\n",
    "json_indentation   = 1\n",
    "json_file_name     = 'xml_to_json_file.json' \n",
    "xml_file_name_json = 'json_to_xml_file.xml'\n",
    "dict_file_name_xml = 'dictionary_to_xml_file.xml'\n",
    "wrapper_for_json2xml = 'All'"
   ]
  },
  {
   "cell_type": "code",
   "execution_count": 4,
   "metadata": {},
   "outputs": [],
   "source": [
    "def read_xml_like_string(xml_file):\n",
    "    \n",
    "    # try to read the xml file\n",
    "    try:\n",
    "        # opened the xml file, read it and has stored  like string.\n",
    "        xml_string_file = open(xml_file).read()     \n",
    "               \n",
    "    # fail to read xml file\n",
    "    except Exception as ex:\n",
    "        \n",
    "        # capture exception message\n",
    "        message = ex\n",
    "     \n",
    "    # the operation is ok, and read successfully\n",
    "    else:\n",
    "        message = xml_string_file\n",
    "    \n",
    "    # return the message obtain in the process\n",
    "    finally:\n",
    "        \n",
    "        # return message \n",
    "        return message"
   ]
  },
  {
   "cell_type": "code",
   "execution_count": 5,
   "metadata": {},
   "outputs": [],
   "source": [
    "def convert_xml_file_to_dict(xml_file):\n",
    "\n",
    "    # read xml y convert it to string\n",
    "    string_xml = read_xml_like_string(xml_file)\n",
    "\n",
    "    # convert string to collections.OrderedDict\n",
    "    dict_file = xmltodict.parse(string_xml)\n",
    "    \n",
    "    # convert collections.OrderedDict to dict\n",
    "    dictionary = json.loads(json.dumps(dict_file))\n",
    "    \n",
    "    # oder the dictionary by key\n",
    "    dictionary = dict(sorted(dictionary.items()))\n",
    "    \n",
    "    # return the dictionary\n",
    "    return dictionary"
   ]
  },
  {
   "cell_type": "code",
   "execution_count": 6,
   "metadata": {},
   "outputs": [],
   "source": [
    "def convert_xml_string_to_dict(string_xml):\n",
    "    \n",
    "    # convert string to collections.OrderedDict\n",
    "    dict_file = xmltodict.parse(string_xml)\n",
    "    \n",
    "    # convert collections.OrderedDict to dict\n",
    "    dictionary = json.loads(json.dumps(dict_file))\n",
    "    \n",
    "    # oder the dictionary by key\n",
    "    dictionary = dict(sorted(dictionary.items()))\n",
    "    \n",
    "    # return the dictionary\n",
    "    return dictionary"
   ]
  },
  {
   "cell_type": "code",
   "execution_count": 7,
   "metadata": {},
   "outputs": [],
   "source": [
    "def convert_dict_to_xml(dictionary):\n",
    "        \n",
    "    # convert dictionary to xml and does not generate     \n",
    "    xml = dicttoxml(dictionary, root=False)\n",
    "\n",
    "    # convert the xml file to string\n",
    "    xml = parseString(xml).toprettyxml()\n",
    "\n",
    "    # return xml \n",
    "    return xml"
   ]
  },
  {
   "cell_type": "code",
   "execution_count": 8,
   "metadata": {},
   "outputs": [],
   "source": [
    "def convert_json_file_to_dict (json_file):\n",
    "    \n",
    "        # try to read the json file\n",
    "    try:\n",
    "\n",
    "        # read the json file like string\n",
    "        with open(json_file) as json_file:\n",
    "            json_string_to_dictionary = json.load(json_file)\n",
    "               \n",
    "    # fail to read xml file\n",
    "    except Exception as ex:\n",
    "        \n",
    "        # capture exception message\n",
    "        message = ex\n",
    "     \n",
    "    # the operation is ok, and read successfully\n",
    "    else:\n",
    "        message = json_string_to_dictionary\n",
    "    \n",
    "    # return the message obtain in the process\n",
    "    finally:\n",
    "\n",
    "        # close the file\n",
    "        json_file.close()\n",
    "        \n",
    "        # return message \n",
    "        return message"
   ]
  },
  {
   "cell_type": "code",
   "execution_count": 9,
   "metadata": {},
   "outputs": [],
   "source": [
    "def convert_json_string_to_dict (string_json):\n",
    "    \n",
    "    # convert json string to dictionary\n",
    "    json_string_to_dictionary  = json.loads(string_json)\n",
    "    \n",
    "    # return the dictionaary\n",
    "    return json_string_to_dictionary"
   ]
  },
  {
   "cell_type": "code",
   "execution_count": 10,
   "metadata": {},
   "outputs": [],
   "source": [
    "def convert_dict_to_json (dictionary):\n",
    "        \n",
    "    # convert dictionary to string\n",
    "    json_from_dictionary  = json.dumps(dictionary).replace(\"'\", '\"')\n",
    "    \n",
    "    # convert string to json style, maybe the key has no comma\n",
    "    # then it doesn't work for quotes in a real json, \n",
    "    # and dictionary can be use quotes or without quotes for the keys.\n",
    "    json_from_dictionary = json.loads(json_from_dictionary)\n",
    "    \n",
    "    # generate json pretty with identaion\n",
    "    json_from_dictionary = json.dumps(json_from_dictionary, indent=json_indentation)\n",
    "    \n",
    "    # return a dict in json style\n",
    "    return json_from_dictionary"
   ]
  },
  {
   "cell_type": "code",
   "execution_count": 11,
   "metadata": {},
   "outputs": [],
   "source": [
    "def convert_xml_file_to_json (xml_file):\n",
    "\n",
    "    # obtain a string from xml\n",
    "    dictionary = convert_xml_file_to_dict(xml_file)\n",
    "\n",
    "    # convert a dictionary in json\n",
    "    json_string_file = convert_dict_to_json (dictionary)\n",
    "\n",
    "    # return a xml like json\n",
    "    return json_string_file   "
   ]
  },
  {
   "cell_type": "code",
   "execution_count": 12,
   "metadata": {},
   "outputs": [],
   "source": [
    "def convert_xml_string_to_json (string_xml):\n",
    "\n",
    "    # obtain a string from xml\n",
    "    dictionary = convert_xml_string_to_dict(string_xml)\n",
    "\n",
    "    # convert a dictionary in json\n",
    "    json_string_file = convert_dict_to_json (dictionary)\n",
    "\n",
    "    # return a xml like json\n",
    "    return json_string_file   "
   ]
  },
  {
   "cell_type": "code",
   "execution_count": 13,
   "metadata": {},
   "outputs": [],
   "source": [
    "def convert_from_json_file_to_xml(json_file):\n",
    "    \n",
    "    # read the json file information\n",
    "    json_data = readfromjson(json_file)\n",
    "    \n",
    "    # obtain xml file with the json information\n",
    "    xml_string_file = Json2xml(json_data, wrapper=wrapper_for_json2xml).to_xml()\n",
    "    \n",
    "    # return a json like xml\n",
    "    return xml_string_file"
   ]
  },
  {
   "cell_type": "code",
   "execution_count": 14,
   "metadata": {},
   "outputs": [],
   "source": [
    "def convert_json_string_to_xml(json_data):\n",
    "    \n",
    "    # obtain xml file with the json information\n",
    "    xml_string_file = Json2xml(json_data, wrapper = wrapper_for_json2xml).to_xml()\n",
    "    \n",
    "    # return a json like xml\n",
    "    return xml_string_file"
   ]
  },
  {
   "cell_type": "code",
   "execution_count": 15,
   "metadata": {},
   "outputs": [],
   "source": [
    "def convert_from_json_url_to_xml(json_url):\n",
    "    \n",
    "    # read the json file information\n",
    "    json_data = readfromurl(json_url)\n",
    "    \n",
    "    # obtain xml file with the json information\n",
    "    xml_string_file = Json2xml(json_data, wrapper = wrapper_for_json2xml).to_xml()\n",
    "    \n",
    "    # return a json like xml\n",
    "    return xml_string_file"
   ]
  },
  {
   "cell_type": "code",
   "execution_count": 16,
   "metadata": {},
   "outputs": [],
   "source": [
    "def convert_from_json_string_to_xml(string_json):\n",
    "    \n",
    "    # read the json file information\n",
    "    json_data = readfromstring(string_json)\n",
    "    \n",
    "    # obtain xml file with the json information\n",
    "    xml_string_file = Json2xml(json_data, wrapper = wrapper_for_json2xml).to_xml()\n",
    "    \n",
    "    # return a json like xml\n",
    "    return xml_string_file"
   ]
  },
  {
   "cell_type": "code",
   "execution_count": 17,
   "metadata": {},
   "outputs": [],
   "source": [
    "def convert_pandas_dataframe_to_json(dataframe):\n",
    "    \n",
    "    # convert json string to dictionary\n",
    "    dictionary = dataframe.to_dict()\n",
    "    \n",
    "    # convert dictionary to json string\n",
    "    dictionary_to_json = convert_dict_to_json (dictionary)\n",
    "    \n",
    "    # return the dataframe like dictionary\n",
    "    return dictionary_to_json"
   ]
  },
  {
   "cell_type": "code",
   "execution_count": 18,
   "metadata": {},
   "outputs": [],
   "source": [
    "def convert_json_string_to_pandas_dataframe(json_string):\n",
    "    \n",
    "    # convert json string to dictionary\n",
    "    json_string  = convert_json_string_to_dict(json_string)\n",
    "    \n",
    "    # return the dictionary like dataframe\n",
    "    return pd.DataFrame(json_string)  "
   ]
  },
  {
   "cell_type": "code",
   "execution_count": 19,
   "metadata": {},
   "outputs": [],
   "source": [
    "def convert_json_file_to_pandas_dataframe(json_file):\n",
    "    \n",
    "    # convert json file to dictionary\n",
    "    dictionary = convert_json_file_to_dict (json_file)\n",
    "    \n",
    "    # convert dictionary to dataframe\n",
    "    dataframe = convert_dict_to_pandas_dataframe(dictionary)\n",
    "    \n",
    "    # return dataframe\n",
    "    return dataframe"
   ]
  },
  {
   "cell_type": "code",
   "execution_count": 20,
   "metadata": {},
   "outputs": [],
   "source": [
    "def convert_pandas_dataframe_to_dict(dataframe):\n",
    "    \n",
    "    # return the dataframe like dictionary\n",
    "    return dataframe.to_dict()"
   ]
  },
  {
   "cell_type": "code",
   "execution_count": 21,
   "metadata": {},
   "outputs": [],
   "source": [
    "def convert_dict_to_pandas_dataframe(dictionary):\n",
    "    \n",
    "    # return the dictionary like dataframe\n",
    "    return pd.DataFrame(dictionary)  "
   ]
  },
  {
   "cell_type": "code",
   "execution_count": 22,
   "metadata": {},
   "outputs": [],
   "source": [
    "def convert_xml_file_to_pandas_dataframe(xml_file):\n",
    "    \n",
    "    # convert json file to dictionary\n",
    "    dictionary = convert_xml_file_to_dict (xml_file)\n",
    "    \n",
    "    # convert dictionary to dataframe\n",
    "    dataframe = convert_dict_to_pandas_dataframe(dictionary)\n",
    "    \n",
    "    # return dataframe\n",
    "    return dataframe"
   ]
  },
  {
   "cell_type": "code",
   "execution_count": 23,
   "metadata": {},
   "outputs": [],
   "source": [
    "def pandas_dataframe_to_xml (dataframe):\n",
    "    \n",
    "    # convert dataframe file to dictionary\n",
    "    dictionary = convert_pandas_dataframe_to_dict (dataframe)\n",
    "    \n",
    "    # convert dictionary to xml\n",
    "    dictionary_to_xml = convert_dict_to_xml(dictionary)\n",
    "    \n",
    "    # return xml\n",
    "    return dictionary_to_xml"
   ]
  },
  {
   "cell_type": "code",
   "execution_count": null,
   "metadata": {},
   "outputs": [],
   "source": []
  },
  {
   "cell_type": "code",
   "execution_count": 24,
   "metadata": {},
   "outputs": [],
   "source": [
    "def convert_xml_string_to_pandas_dataframe(xml_string):\n",
    "    \n",
    "    # convert json file to dictionary\n",
    "    dictionary = convert_xml_string_to_dict (xml_string)\n",
    "    \n",
    "    # convert dictionary to dataframe\n",
    "    dataframe = convert_dict_to_pandas_dataframe(dictionary)\n",
    "    \n",
    "    # return dataframe\n",
    "    return dataframe"
   ]
  },
  {
   "cell_type": "code",
   "execution_count": 25,
   "metadata": {},
   "outputs": [],
   "source": [
    "def convert_csv_to_dict(csv_file):\n",
    "    \n",
    "    # convert excel file to dataframe\n",
    "    dataframe = pd.read_csv(csv_file)\n",
    "    \n",
    "    # convert dataframe in dictionary\n",
    "    dataframe_to_dict = convert_pandas_dataframe_to_dict(dataframe)\n",
    "    \n",
    "    # return dataframe\n",
    "    return dataframe_to_dict"
   ]
  },
  {
   "cell_type": "code",
   "execution_count": 26,
   "metadata": {},
   "outputs": [],
   "source": [
    "def convert_csv_to_json(csv_file):\n",
    "    \n",
    "    # convert csv file to dataframe\n",
    "    dataframe = pd.read_csv(csv_file)\n",
    "    \n",
    "    # convert dataframe in json\n",
    "    dataframe_to_json = convert_pandas_dataframe_to_json(dataframe)\n",
    "    \n",
    "    # return dataframe\n",
    "    return dataframe_to_json"
   ]
  },
  {
   "cell_type": "code",
   "execution_count": 27,
   "metadata": {},
   "outputs": [],
   "source": [
    "def convert_excel_to_dict(excel_file):\n",
    "    \n",
    "    # convert excel fila to dataframe\n",
    "    dataframe = pd.read_excel(excel_file)\n",
    "    \n",
    "    # convert dataframe in dictionary\n",
    "    dataframe_to_dict = convert_pandas_dataframe_to_dict(dataframe)\n",
    "    \n",
    "    # return dataframe\n",
    "    return dataframe_to_dict"
   ]
  },
  {
   "cell_type": "code",
   "execution_count": 28,
   "metadata": {},
   "outputs": [],
   "source": [
    "def convert_excel_to_json(excel_file):\n",
    "    \n",
    "    # convert excel fila to dataframe\n",
    "    dataframe = pd.read_excel(excel_file)\n",
    "    \n",
    "    # convert dataframe in json\n",
    "    dataframe_to_json = convert_pandas_dataframe_to_json(dataframe)\n",
    "    \n",
    "    # return dataframe\n",
    "    return dataframe_to_json"
   ]
  },
  {
   "cell_type": "code",
   "execution_count": 29,
   "metadata": {},
   "outputs": [],
   "source": [
    "def convert_excel_to_xml(excel_file):\n",
    "    \n",
    "    # convert excel fila to json file\n",
    "    dictionary = convert_excel_to_dict(excel_file)\n",
    "\n",
    "    \n",
    "    rrr = convert_dict_to_json (dictionary)\n",
    "    print(str(rrr))\n",
    "    \n",
    "    #type(rrr)\n",
    "    #excel_xml = convert_json_string_to_xml(rrr)\n",
    "    \n",
    "    # return dataframe\n",
    "    #return json_string_file"
   ]
  },
  {
   "cell_type": "code",
   "execution_count": 30,
   "metadata": {},
   "outputs": [],
   "source": [
    "def show_function(func): \n",
    "    \n",
    "    def select_funtion(*args): \n",
    "        print('Running \"{}\" with arguments {}'.format(func.__name__, args)) \n",
    "       \n",
    "        return func(*args)\n",
    "        \n",
    "    # Necessary for closure to work (returning WITHOUT parenthesis) \n",
    "    return select_funtion"
   ]
  },
  {
   "cell_type": "code",
   "execution_count": 31,
   "metadata": {},
   "outputs": [],
   "source": [
    "def create_file_and_save_data (function_name, functions_parametres, file_name, file_type):\n",
    "    \n",
    "    # select the funcion for processing\n",
    "    select_function  = show_function(function_name)\n",
    "    \n",
    "    # extract the data from function\n",
    "    data_for_save    = select_function(functions_parametres)\n",
    "    \n",
    "    # contains the file name taht creates\n",
    "    file_to_create = file_name + '.' + file_type\n",
    "    \n",
    "    # try to create to json file\n",
    "    try:\n",
    "        # create the file for save the data \n",
    "        file_data = open(file_to_create, \"wt\", encoding='utf-8')        \n",
    "\n",
    "        # save the file with the information\n",
    "        file_data.write(str(data_for_save))\n",
    "        \n",
    "        # close the file\n",
    "        file_data.close()      \n",
    "               \n",
    "    # fail to create xml file\n",
    "    except Exception as ex:\n",
    "        \n",
    "        # capture exception message\n",
    "        message = ex\n",
    "     \n",
    "    # the operation is ok, and create the successfull message\n",
    "    else:\n",
    "        message = str(file_type + ' file ').upper()  + file_to_create + ', Was Create Successfully'\n",
    "    \n",
    "    # return the message obtain in the process\n",
    "    finally:\n",
    "        \n",
    "        # return message \n",
    "        return message"
   ]
  },
  {
   "cell_type": "code",
   "execution_count": 32,
   "metadata": {
    "scrolled": true
   },
   "outputs": [
    {
     "name": "stdout",
     "output_type": "stream",
     "text": [
      "{\n",
      " \"uno\": {\n",
      "  \"0\": 69,\n",
      "  \"1\": 83,\n",
      "  \"2\": 87,\n",
      "  \"3\": 8,\n",
      "  \"4\": 2,\n",
      "  \"5\": 28,\n",
      "  \"6\": 75,\n",
      "  \"7\": 20,\n",
      "  \"8\": 64,\n",
      "  \"9\": 64,\n",
      "  \"10\": 45,\n",
      "  \"11\": 73,\n",
      "  \"12\": 48,\n",
      "  \"13\": 85,\n",
      "  \"14\": 8,\n",
      "  \"15\": 80,\n",
      "  \"16\": 78,\n",
      "  \"17\": 60,\n",
      "  \"18\": 60,\n",
      "  \"19\": 67,\n",
      "  \"20\": 87,\n",
      "  \"21\": 81,\n",
      "  \"22\": 48,\n",
      "  \"23\": 64,\n",
      "  \"24\": 12,\n",
      "  \"25\": 20,\n",
      "  \"26\": 41,\n",
      "  \"27\": 66,\n",
      "  \"28\": 25,\n",
      "  \"29\": 65,\n",
      "  \"30\": 6,\n",
      "  \"31\": 63,\n",
      "  \"32\": 85,\n",
      "  \"33\": 80,\n",
      "  \"34\": 49,\n",
      "  \"35\": 71,\n",
      "  \"36\": 24,\n",
      "  \"37\": 75,\n",
      "  \"38\": 23\n",
      " },\n",
      " \"dos\": {\n",
      "  \"0\": 414,\n",
      "  \"1\": 664,\n",
      "  \"2\": 348,\n",
      "  \"3\": 56,\n",
      "  \"4\": 2,\n",
      "  \"5\": 224,\n",
      "  \"6\": 750,\n",
      "  \"7\": 100,\n",
      "  \"8\": 384,\n",
      "  \"9\": 256,\n",
      "  \"10\": 315,\n",
      "  \"11\": 365,\n",
      "  \"12\": 192,\n",
      "  \"13\": 425,\n",
      "  \"14\": 32,\n",
      "  \"15\": 560,\n",
      "  \"16\": 156,\n",
      "  \"17\": 60,\n",
      "  \"18\": 420,\n",
      "  \"19\": 469,\n",
      "  \"20\": 87,\n",
      "  \"21\": 324,\n",
      "  \"22\": 240,\n",
      "  \"23\": 448,\n",
      "  \"24\": 36,\n",
      "  \"25\": 160,\n",
      "  \"26\": 287,\n",
      "  \"27\": 396,\n",
      "  \"28\": 100,\n",
      "  \"29\": 650,\n",
      "  \"30\": 24,\n",
      "  \"31\": 189,\n",
      "  \"32\": 680,\n",
      "  \"33\": 400,\n",
      "  \"34\": 245,\n",
      "  \"35\": 71,\n",
      "  \"36\": 168,\n",
      "  \"37\": 450,\n",
      "  \"38\": 138\n",
      " },\n",
      " \"tres\": {\n",
      "  \"0\": 483,\n",
      "  \"1\": 747,\n",
      "  \"2\": 435,\n",
      "  \"3\": 64,\n",
      "  \"4\": 4,\n",
      "  \"5\": 252,\n",
      "  \"6\": 825,\n",
      "  \"7\": 120,\n",
      "  \"8\": 448,\n",
      "  \"9\": 320,\n",
      "  \"10\": 360,\n",
      "  \"11\": 438,\n",
      "  \"12\": 240,\n",
      "  \"13\": 510,\n",
      "  \"14\": 40,\n",
      "  \"15\": 640,\n",
      "  \"16\": 234,\n",
      "  \"17\": 120,\n",
      "  \"18\": 480,\n",
      "  \"19\": 536,\n",
      "  \"20\": 174,\n",
      "  \"21\": 405,\n",
      "  \"22\": 288,\n",
      "  \"23\": 512,\n",
      "  \"24\": 48,\n",
      "  \"25\": 180,\n",
      "  \"26\": 328,\n",
      "  \"27\": 462,\n",
      "  \"28\": 125,\n",
      "  \"29\": 715,\n",
      "  \"30\": 30,\n",
      "  \"31\": 252,\n",
      "  \"32\": 765,\n",
      "  \"33\": 480,\n",
      "  \"34\": 294,\n",
      "  \"35\": 142,\n",
      "  \"36\": 192,\n",
      "  \"37\": 525,\n",
      "  \"38\": 161\n",
      " }\n",
      "}\n"
     ]
    },
    {
     "data": {
      "text/plain": [
       "NoneType"
      ]
     },
     "execution_count": 32,
     "metadata": {},
     "output_type": "execute_result"
    }
   ],
   "source": [
    "r = convert_excel_to_xml('test.xlsx')\n",
    "type(r)"
   ]
  },
  {
   "cell_type": "code",
   "execution_count": 33,
   "metadata": {},
   "outputs": [
    {
     "name": "stdout",
     "output_type": "stream",
     "text": [
      "Running \"convert_from_json_file_to_xml\" with arguments ('file_name_9998.json',)\n"
     ]
    },
    {
     "data": {
      "text/plain": [
       "'XML FILE 9998.xml, Was Create Successfully'"
      ]
     },
     "execution_count": 33,
     "metadata": {},
     "output_type": "execute_result"
    }
   ],
   "source": [
    "create_file_and_save_data (convert_from_json_file_to_xml, 'file_name_9998.json', '9998', 'xml')"
   ]
  }
 ],
 "metadata": {
  "kernelspec": {
   "display_name": "Python 3",
   "language": "python",
   "name": "python3"
  },
  "language_info": {
   "codemirror_mode": {
    "name": "ipython",
    "version": 3
   },
   "file_extension": ".py",
   "mimetype": "text/x-python",
   "name": "python",
   "nbconvert_exporter": "python",
   "pygments_lexer": "ipython3",
   "version": "3.7.4"
  }
 },
 "nbformat": 4,
 "nbformat_minor": 2
}
