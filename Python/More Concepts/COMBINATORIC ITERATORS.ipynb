{
 "cells": [
  {
   "cell_type": "markdown",
   "metadata": {},
   "source": [
    "<center><h1>COMBINATORIC ITERATORS</h1></center>"
   ]
  },
  {
   "cell_type": "code",
   "execution_count": 1,
   "metadata": {},
   "outputs": [],
   "source": [
    "from itertools import product\n",
    "from itertools import permutations\n",
    "from itertools import combinations\n",
    "from itertools import combinations_with_replacement\n",
    "import random\n",
    "import string"
   ]
  },
  {
   "cell_type": "code",
   "execution_count": 2,
   "metadata": {},
   "outputs": [],
   "source": [
    "# generate phrase fro iteration\n",
    "def phrase(lenght=10):\n",
    "    \n",
    "    letters = string.printable\n",
    "    \n",
    "    # return the string\n",
    "    return ''.join(random.choice(letters) for i in range(lenght))\n",
    "\n",
    "# print the iterator's content\n",
    "def show_content(data):\n",
    "    \n",
    "    for i in data:\n",
    "        print(i , end =' & ')\n",
    "    \n",
    "# return the iterator    \n",
    "def iterator (selected_iterator):\n",
    "    \n",
    "    return selected_iterator"
   ]
  },
  {
   "cell_type": "code",
   "execution_count": 3,
   "metadata": {},
   "outputs": [],
   "source": [
    "# the phrase use for iteration\n",
    "phrase = phrase()\n",
    "\n",
    "# number of changes\n",
    "level = 2"
   ]
  },
  {
   "cell_type": "markdown",
   "metadata": {},
   "source": [
    "<center><h3>PRODUCT</h3></center>"
   ]
  },
  {
   "cell_type": "code",
   "execution_count": 4,
   "metadata": {},
   "outputs": [
    {
     "data": {
      "text/plain": [
       "itertools.product"
      ]
     },
     "execution_count": 4,
     "metadata": {},
     "output_type": "execute_result"
    }
   ],
   "source": [
    "x = iterator(product)\n",
    "x"
   ]
  },
  {
   "cell_type": "code",
   "execution_count": 5,
   "metadata": {},
   "outputs": [
    {
     "name": "stdout",
     "output_type": "stream",
     "text": [
      "('Z', 'Z') & ('Z', 'w') & ('Z', 'u') & ('Z', 'S') & ('Z', 'z') & ('Z', 'L') & ('Z', '\\x0c') & ('Z', '3') & ('Z', '_') & ('Z', '6') & ('w', 'Z') & ('w', 'w') & ('w', 'u') & ('w', 'S') & ('w', 'z') & ('w', 'L') & ('w', '\\x0c') & ('w', '3') & ('w', '_') & ('w', '6') & ('u', 'Z') & ('u', 'w') & ('u', 'u') & ('u', 'S') & ('u', 'z') & ('u', 'L') & ('u', '\\x0c') & ('u', '3') & ('u', '_') & ('u', '6') & ('S', 'Z') & ('S', 'w') & ('S', 'u') & ('S', 'S') & ('S', 'z') & ('S', 'L') & ('S', '\\x0c') & ('S', '3') & ('S', '_') & ('S', '6') & ('z', 'Z') & ('z', 'w') & ('z', 'u') & ('z', 'S') & ('z', 'z') & ('z', 'L') & ('z', '\\x0c') & ('z', '3') & ('z', '_') & ('z', '6') & ('L', 'Z') & ('L', 'w') & ('L', 'u') & ('L', 'S') & ('L', 'z') & ('L', 'L') & ('L', '\\x0c') & ('L', '3') & ('L', '_') & ('L', '6') & ('\\x0c', 'Z') & ('\\x0c', 'w') & ('\\x0c', 'u') & ('\\x0c', 'S') & ('\\x0c', 'z') & ('\\x0c', 'L') & ('\\x0c', '\\x0c') & ('\\x0c', '3') & ('\\x0c', '_') & ('\\x0c', '6') & ('3', 'Z') & ('3', 'w') & ('3', 'u') & ('3', 'S') & ('3', 'z') & ('3', 'L') & ('3', '\\x0c') & ('3', '3') & ('3', '_') & ('3', '6') & ('_', 'Z') & ('_', 'w') & ('_', 'u') & ('_', 'S') & ('_', 'z') & ('_', 'L') & ('_', '\\x0c') & ('_', '3') & ('_', '_') & ('_', '6') & ('6', 'Z') & ('6', 'w') & ('6', 'u') & ('6', 'S') & ('6', 'z') & ('6', 'L') & ('6', '\\x0c') & ('6', '3') & ('6', '_') & ('6', '6') & "
     ]
    }
   ],
   "source": [
    "show_content(x(phrase, repeat=level))"
   ]
  },
  {
   "cell_type": "markdown",
   "metadata": {},
   "source": [
    "<center><h3>PERMUTATIONS</h3></center>"
   ]
  },
  {
   "cell_type": "code",
   "execution_count": 6,
   "metadata": {},
   "outputs": [
    {
     "data": {
      "text/plain": [
       "itertools.permutations"
      ]
     },
     "execution_count": 6,
     "metadata": {},
     "output_type": "execute_result"
    }
   ],
   "source": [
    "x = iterator(permutations)\n",
    "x"
   ]
  },
  {
   "cell_type": "code",
   "execution_count": 7,
   "metadata": {},
   "outputs": [
    {
     "name": "stdout",
     "output_type": "stream",
     "text": [
      "('Z', 'w') & ('Z', 'u') & ('Z', 'S') & ('Z', 'z') & ('Z', 'L') & ('Z', '\\x0c') & ('Z', '3') & ('Z', '_') & ('Z', '6') & ('w', 'Z') & ('w', 'u') & ('w', 'S') & ('w', 'z') & ('w', 'L') & ('w', '\\x0c') & ('w', '3') & ('w', '_') & ('w', '6') & ('u', 'Z') & ('u', 'w') & ('u', 'S') & ('u', 'z') & ('u', 'L') & ('u', '\\x0c') & ('u', '3') & ('u', '_') & ('u', '6') & ('S', 'Z') & ('S', 'w') & ('S', 'u') & ('S', 'z') & ('S', 'L') & ('S', '\\x0c') & ('S', '3') & ('S', '_') & ('S', '6') & ('z', 'Z') & ('z', 'w') & ('z', 'u') & ('z', 'S') & ('z', 'L') & ('z', '\\x0c') & ('z', '3') & ('z', '_') & ('z', '6') & ('L', 'Z') & ('L', 'w') & ('L', 'u') & ('L', 'S') & ('L', 'z') & ('L', '\\x0c') & ('L', '3') & ('L', '_') & ('L', '6') & ('\\x0c', 'Z') & ('\\x0c', 'w') & ('\\x0c', 'u') & ('\\x0c', 'S') & ('\\x0c', 'z') & ('\\x0c', 'L') & ('\\x0c', '3') & ('\\x0c', '_') & ('\\x0c', '6') & ('3', 'Z') & ('3', 'w') & ('3', 'u') & ('3', 'S') & ('3', 'z') & ('3', 'L') & ('3', '\\x0c') & ('3', '_') & ('3', '6') & ('_', 'Z') & ('_', 'w') & ('_', 'u') & ('_', 'S') & ('_', 'z') & ('_', 'L') & ('_', '\\x0c') & ('_', '3') & ('_', '6') & ('6', 'Z') & ('6', 'w') & ('6', 'u') & ('6', 'S') & ('6', 'z') & ('6', 'L') & ('6', '\\x0c') & ('6', '3') & ('6', '_') & "
     ]
    }
   ],
   "source": [
    "show_content(x(phrase, level))"
   ]
  },
  {
   "cell_type": "markdown",
   "metadata": {},
   "source": [
    "<center><h3>COMBINATIONS</h3></center>"
   ]
  },
  {
   "cell_type": "code",
   "execution_count": 8,
   "metadata": {},
   "outputs": [
    {
     "data": {
      "text/plain": [
       "itertools.combinations"
      ]
     },
     "execution_count": 8,
     "metadata": {},
     "output_type": "execute_result"
    }
   ],
   "source": [
    "x = iterator(combinations)\n",
    "x"
   ]
  },
  {
   "cell_type": "code",
   "execution_count": 9,
   "metadata": {},
   "outputs": [
    {
     "name": "stdout",
     "output_type": "stream",
     "text": [
      "('Z', 'w') & ('Z', 'u') & ('Z', 'S') & ('Z', 'z') & ('Z', 'L') & ('Z', '\\x0c') & ('Z', '3') & ('Z', '_') & ('Z', '6') & ('w', 'u') & ('w', 'S') & ('w', 'z') & ('w', 'L') & ('w', '\\x0c') & ('w', '3') & ('w', '_') & ('w', '6') & ('u', 'S') & ('u', 'z') & ('u', 'L') & ('u', '\\x0c') & ('u', '3') & ('u', '_') & ('u', '6') & ('S', 'z') & ('S', 'L') & ('S', '\\x0c') & ('S', '3') & ('S', '_') & ('S', '6') & ('z', 'L') & ('z', '\\x0c') & ('z', '3') & ('z', '_') & ('z', '6') & ('L', '\\x0c') & ('L', '3') & ('L', '_') & ('L', '6') & ('\\x0c', '3') & ('\\x0c', '_') & ('\\x0c', '6') & ('3', '_') & ('3', '6') & ('_', '6') & "
     ]
    }
   ],
   "source": [
    "show_content(x(phrase, level))"
   ]
  },
  {
   "cell_type": "markdown",
   "metadata": {},
   "source": [
    "<center><h3>COMBINATIONS WITH REPLACEMENT</h3></center>"
   ]
  },
  {
   "cell_type": "code",
   "execution_count": 10,
   "metadata": {},
   "outputs": [
    {
     "data": {
      "text/plain": [
       "itertools.combinations_with_replacement"
      ]
     },
     "execution_count": 10,
     "metadata": {},
     "output_type": "execute_result"
    }
   ],
   "source": [
    "x = iterator(combinations_with_replacement)\n",
    "x"
   ]
  },
  {
   "cell_type": "code",
   "execution_count": 11,
   "metadata": {},
   "outputs": [
    {
     "name": "stdout",
     "output_type": "stream",
     "text": [
      "('Z', 'Z') & ('Z', 'w') & ('Z', 'u') & ('Z', 'S') & ('Z', 'z') & ('Z', 'L') & ('Z', '\\x0c') & ('Z', '3') & ('Z', '_') & ('Z', '6') & ('w', 'w') & ('w', 'u') & ('w', 'S') & ('w', 'z') & ('w', 'L') & ('w', '\\x0c') & ('w', '3') & ('w', '_') & ('w', '6') & ('u', 'u') & ('u', 'S') & ('u', 'z') & ('u', 'L') & ('u', '\\x0c') & ('u', '3') & ('u', '_') & ('u', '6') & ('S', 'S') & ('S', 'z') & ('S', 'L') & ('S', '\\x0c') & ('S', '3') & ('S', '_') & ('S', '6') & ('z', 'z') & ('z', 'L') & ('z', '\\x0c') & ('z', '3') & ('z', '_') & ('z', '6') & ('L', 'L') & ('L', '\\x0c') & ('L', '3') & ('L', '_') & ('L', '6') & ('\\x0c', '\\x0c') & ('\\x0c', '3') & ('\\x0c', '_') & ('\\x0c', '6') & ('3', '3') & ('3', '_') & ('3', '6') & ('_', '_') & ('_', '6') & ('6', '6') & "
     ]
    }
   ],
   "source": [
    "show_content(x(phrase, level))"
   ]
  }
 ],
 "metadata": {
  "kernelspec": {
   "display_name": "Python 3",
   "language": "python",
   "name": "python3"
  },
  "language_info": {
   "codemirror_mode": {
    "name": "ipython",
    "version": 3
   },
   "file_extension": ".py",
   "mimetype": "text/x-python",
   "name": "python",
   "nbconvert_exporter": "python",
   "pygments_lexer": "ipython3",
   "version": "3.7.4"
  }
 },
 "nbformat": 4,
 "nbformat_minor": 2
}
