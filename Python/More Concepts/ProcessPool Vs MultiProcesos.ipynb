{
 "cells": [
  {
   "cell_type": "code",
   "execution_count": 1,
   "metadata": {},
   "outputs": [],
   "source": [
    "from concurrent.futures import ProcessPoolExecutor, wait\n",
    "from multiprocessing    import Pool, cpu_count\n",
    "import timeit\n",
    "iteraciones = 12345"
   ]
  },
  {
   "cell_type": "code",
   "execution_count": 2,
   "metadata": {},
   "outputs": [],
   "source": [
    "def calculo (x):\n",
    "\n",
    "    divisor = 2\n",
    "\n",
    "    if x < divisor:\n",
    "\n",
    "        return []\n",
    "\n",
    "    factores = []    \n",
    "\n",
    "    while True:\n",
    "\n",
    "        if x == 1:\n",
    "            return factores\n",
    "\n",
    "        r = x % divisor\n",
    "\n",
    "        if r == 0:\n",
    "            factores.append(divisor)\n",
    "            x = x // divisor\n",
    "        elif divisor * divisor >= x:\n",
    "            factores.append(x)\n",
    "            return factores\n",
    "        elif divisor > 2:\n",
    "\n",
    "            divisor += 2\n",
    "        else:\n",
    "\n",
    "            divisor += 1\n",
    "    \n",
    "    return factores "
   ]
  },
  {
   "cell_type": "code",
   "execution_count": 3,
   "metadata": {},
   "outputs": [],
   "source": [
    "def iterador_y_tiempo_de_respuesta(respuesta, inicio):\n",
    "    \n",
    "    for i in respuesta:\n",
    "        print(i)\n",
    "        \n",
    "    fin = timeit.default_timer()\n",
    "\n",
    "    print('Time: ', inicio - fin)   "
   ]
  },
  {
   "cell_type": "code",
   "execution_count": 4,
   "metadata": {},
   "outputs": [],
   "source": [
    "def MultiProcesos():\n",
    "    \n",
    "    inicio = timeit.default_timer()\n",
    "\n",
    "    try:\n",
    "        workers = cpu_count()\n",
    "    except NotImplementedError:\n",
    "        workers = 2\n",
    "    pool = Pool(processes=workers)\n",
    "    respuesta = pool.map(calculo, range(1, iteraciones))\n",
    "\n",
    "    # muestre el tiempo de ejecucion\n",
    "    iterador_y_tiempo_de_respuesta(respuesta, inicio)"
   ]
  },
  {
   "cell_type": "code",
   "execution_count": 5,
   "metadata": {},
   "outputs": [],
   "source": [
    "def ProcessPool():\n",
    "    \n",
    "    start = timeit.default_timer()\n",
    "\n",
    "    try:\n",
    "        workers = cpu_count()\n",
    "    except NotImplementedError:\n",
    "        workers = 2\n",
    "    pool = ProcessPoolExecutor(max_workers=workers)\n",
    "    respuesta = pool.map(calculo, range(1, iteraciones))\n",
    "\n",
    "    # muestre el tiempo de ejecucion\n",
    "    iterador_y_tiempo_de_respuesta(respuesta, inicio)"
   ]
  },
  {
   "cell_type": "code",
   "execution_count": null,
   "metadata": {},
   "outputs": [],
   "source": [
    " MultiProcesos()"
   ]
  },
  {
   "cell_type": "code",
   "execution_count": null,
   "metadata": {},
   "outputs": [],
   "source": [
    "ProcessPool()"
   ]
  }
 ],
 "metadata": {
  "kernelspec": {
   "display_name": "Python 3",
   "language": "python",
   "name": "python3"
  },
  "language_info": {
   "codemirror_mode": {
    "name": "ipython",
    "version": 3
   },
   "file_extension": ".py",
   "mimetype": "text/x-python",
   "name": "python",
   "nbconvert_exporter": "python",
   "pygments_lexer": "ipython3",
   "version": "3.7.4"
  }
 },
 "nbformat": 4,
 "nbformat_minor": 2
}
