{
 "cells": [
  {
   "cell_type": "code",
   "execution_count": 1,
   "metadata": {},
   "outputs": [
    {
     "data": {
      "text/html": [
       "<style>.container { width:100% !important; }</style>"
      ],
      "text/plain": [
       "<IPython.core.display.HTML object>"
      ]
     },
     "metadata": {},
     "output_type": "display_data"
    }
   ],
   "source": [
    "# configura el notebook para que las celdas tomen todo el ancho de la pantalla\n",
    "from IPython.core.display import display, HTML\n",
    "display(HTML(\"<style>.container { width:100% !important; }</style>\"))"
   ]
  },
  {
   "cell_type": "markdown",
   "metadata": {},
   "source": [
    "<center><h1>SHORTEST INPUT SEQUENCE ITERATORS</h1></center>"
   ]
  },
  {
   "cell_type": "code",
   "execution_count": 2,
   "metadata": {},
   "outputs": [],
   "source": [
    "from itertools import accumulate\n",
    "from itertools import chain\n",
    "from itertools import compress\n",
    "from itertools import dropwhile\n",
    "from itertools import filterfalse\n",
    "from itertools import groupby\n",
    "from itertools import islice\n",
    "from itertools import starmap\n",
    "from itertools import takewhile\n",
    "from itertools import tee\n",
    "from itertools import zip_longest\n",
    "import random\n",
    "import string\n",
    "import ast\n",
    "import json"
   ]
  },
  {
   "cell_type": "code",
   "execution_count": 3,
   "metadata": {},
   "outputs": [],
   "source": [
    "limit_numbers = 50\n",
    "initial_value = 0\n",
    "limit_values  = limit_numbers * 2"
   ]
  },
  {
   "cell_type": "code",
   "execution_count": 4,
   "metadata": {},
   "outputs": [],
   "source": [
    "# generate phrase fro iteration\n",
    "def phrase(lenght=20):\n",
    "    \n",
    "    letters = string.ascii_letters\n",
    "    \n",
    "    # return the string\n",
    "    return ''.join(random.choice(letters) for i in range(lenght))\n",
    "\n",
    "# the phrase use for iteration\n",
    "phrase_1 = phrase()\n",
    "list_phrase_1 = list(phrase_1)\n",
    "\n",
    "# the phrase use for iteration\n",
    "phrase_2 = phrase()\n",
    "list_phrase_2 = list(phrase_2)\n",
    "\n",
    "# lenght of string\n",
    "size = len(phrase_1)\n",
    "\n",
    "# number of changes\n",
    "level = 2"
   ]
  },
  {
   "cell_type": "code",
   "execution_count": 5,
   "metadata": {},
   "outputs": [],
   "source": [
    "# create a list of pows numbers\n",
    "def list_numbers_generator ():\n",
    "    \n",
    "    return [i**2 for i in range(size)]    \n",
    "\n",
    "# create a list of random numbers\n",
    "def random_numbers_generator():    \n",
    "    \n",
    "    return [random.randint(initial_value,limit_values) for a in range(limit_numbers)]\n",
    "    \n",
    "    # create a list of numbers\n",
    "def binary_list_generator ():\n",
    "    \n",
    "    return [random.randrange(2) for i in range(size) ]\n",
    "\n",
    "# print the iterator's content\n",
    "def show_content(data):\n",
    "    \n",
    "    data_list = []\n",
    "    \n",
    "    for i in data:\n",
    "        if len(data_list) < size:\n",
    "            data_list.append(i)\n",
    "            #print(i , end =' ')\n",
    "        else:\n",
    "            break\n",
    "    \n",
    "    return print(data_list)\n",
    "\n",
    "# generate a dictionary with the ocurrences with every keys\n",
    "def obtain_dictionary_with_ocurrences(groups):  \n",
    "       \n",
    "    # genereta the dictionary\n",
    "    ocurrences_dictionary       = {i[0] : len(i) for i in groups}\n",
    "    \n",
    "    # replace  no valid characters\n",
    "    cleaned_ocurrences_dictionary = str(ocurrences_dictionary).replace('\"', \"'\")\n",
    "    \n",
    "    # generate the final dictionary\n",
    "    dictionary  = ast.literal_eval(cleaned_ocurrences_dictionary)\n",
    "    \n",
    "    # return the dictionary\n",
    "    return dictionary\n",
    "\n",
    "# convert dictionary to json\n",
    "def dict_to_json(dictionary):\n",
    "    \n",
    "    # convert dictionary to string\n",
    "    dictionary = json.dumps(dictionary)\n",
    "    \n",
    "    # convert string to json style\n",
    "    dictionary = json.loads(dictionary)\n",
    "    \n",
    "    return dictionary\n",
    "\n",
    "# print the iterator's content\n",
    "def show_content_group(data):\n",
    "    \n",
    "    keys, groups = [],[]\n",
    "\n",
    "    for i,j in data:\n",
    "\n",
    "        keys.append(i)\n",
    "        groups.append(list(j))\n",
    "\n",
    "    print('keys',keys)\n",
    "    print()\n",
    "    print('groups', groups)\n",
    "    \n",
    "    return keys, groups\n",
    "    \n",
    "# return the iterator    \n",
    "def iterator (selected_iterator):\n",
    "    \n",
    "    return selected_iterator"
   ]
  },
  {
   "cell_type": "code",
   "execution_count": 6,
   "metadata": {},
   "outputs": [
    {
     "data": {
      "text/plain": [
       "'QcmeHyWMvkxFtFsvRmCR'"
      ]
     },
     "execution_count": 6,
     "metadata": {},
     "output_type": "execute_result"
    }
   ],
   "source": [
    "phrase_1"
   ]
  },
  {
   "cell_type": "code",
   "execution_count": 7,
   "metadata": {},
   "outputs": [
    {
     "data": {
      "text/plain": [
       "'lLYxPuwrwFIVIIJkmsYv'"
      ]
     },
     "execution_count": 7,
     "metadata": {},
     "output_type": "execute_result"
    }
   ],
   "source": [
    "phrase_2"
   ]
  },
  {
   "cell_type": "code",
   "execution_count": 8,
   "metadata": {},
   "outputs": [],
   "source": [
    "list_numbers = list_numbers_generator ()\n",
    "list_binary_numbers = binary_list_generator ()\n",
    "list_random_numbers = random_numbers_generator()\n",
    "list_union = list_numbers + list_binary_numbers + list_random_numbers\n",
    "phrase_union = phrase_1 + phrase_2"
   ]
  },
  {
   "cell_type": "code",
   "execution_count": 9,
   "metadata": {},
   "outputs": [
    {
     "name": "stdout",
     "output_type": "stream",
     "text": [
      "[0, 1, 4, 9, 16, 25, 36, 49, 64, 81, 100, 121, 144, 169, 196, 225, 256, 289, 324, 361]\n"
     ]
    }
   ],
   "source": [
    "print(list_numbers)"
   ]
  },
  {
   "cell_type": "code",
   "execution_count": 10,
   "metadata": {},
   "outputs": [
    {
     "name": "stdout",
     "output_type": "stream",
     "text": [
      "[0, 0, 0, 0, 1, 1, 0, 0, 0, 0, 0, 1, 1, 1, 1, 0, 0, 1, 1, 0]\n"
     ]
    }
   ],
   "source": [
    "print(list_binary_numbers)"
   ]
  },
  {
   "cell_type": "code",
   "execution_count": 11,
   "metadata": {},
   "outputs": [
    {
     "name": "stdout",
     "output_type": "stream",
     "text": [
      "[10, 61, 27, 49, 88, 47, 5, 23, 61, 11, 65, 40, 73, 69, 82, 92, 26, 16, 63, 81, 75, 38, 25, 96, 46, 68, 68, 1, 98, 65, 51, 23, 93, 95, 64, 50, 51, 74, 98, 73, 32, 70, 84, 77, 94, 54, 54, 12, 6, 14]\n"
     ]
    }
   ],
   "source": [
    "print(list_random_numbers)"
   ]
  },
  {
   "cell_type": "code",
   "execution_count": 12,
   "metadata": {},
   "outputs": [
    {
     "name": "stdout",
     "output_type": "stream",
     "text": [
      "[0, 1, 4, 9, 16, 25, 36, 49, 64, 81, 100, 121, 144, 169, 196, 225, 256, 289, 324, 361, 0, 0, 0, 0, 1, 1, 0, 0, 0, 0, 0, 1, 1, 1, 1, 0, 0, 1, 1, 0, 10, 61, 27, 49, 88, 47, 5, 23, 61, 11, 65, 40, 73, 69, 82, 92, 26, 16, 63, 81, 75, 38, 25, 96, 46, 68, 68, 1, 98, 65, 51, 23, 93, 95, 64, 50, 51, 74, 98, 73, 32, 70, 84, 77, 94, 54, 54, 12, 6, 14]\n"
     ]
    }
   ],
   "source": [
    "print(list_union)"
   ]
  },
  {
   "cell_type": "code",
   "execution_count": 13,
   "metadata": {},
   "outputs": [
    {
     "data": {
      "text/plain": [
       "'QcmeHyWMvkxFtFsvRmCRlLYxPuwrwFIVIIJkmsYv'"
      ]
     },
     "execution_count": 13,
     "metadata": {},
     "output_type": "execute_result"
    }
   ],
   "source": [
    "phrase_union"
   ]
  },
  {
   "cell_type": "markdown",
   "metadata": {},
   "source": [
    "<center><h3>ACCUMULATE</h3></center>"
   ]
  },
  {
   "cell_type": "code",
   "execution_count": 14,
   "metadata": {},
   "outputs": [
    {
     "data": {
      "text/plain": [
       "itertools.accumulate"
      ]
     },
     "execution_count": 14,
     "metadata": {},
     "output_type": "execute_result"
    }
   ],
   "source": [
    "x = iterator(accumulate)\n",
    "x"
   ]
  },
  {
   "cell_type": "code",
   "execution_count": 15,
   "metadata": {},
   "outputs": [
    {
     "name": "stdout",
     "output_type": "stream",
     "text": [
      "[0, 1, 5, 14, 30, 55, 91, 140, 204, 285, 385, 506, 650, 819, 1015, 1240, 1496, 1785, 2109, 2470]\n"
     ]
    }
   ],
   "source": [
    "show_content(x(list_numbers))"
   ]
  },
  {
   "cell_type": "markdown",
   "metadata": {},
   "source": [
    "<center><h3>CHAIN</h3></center>"
   ]
  },
  {
   "cell_type": "code",
   "execution_count": 16,
   "metadata": {},
   "outputs": [
    {
     "data": {
      "text/plain": [
       "itertools.chain"
      ]
     },
     "execution_count": 16,
     "metadata": {},
     "output_type": "execute_result"
    }
   ],
   "source": [
    "x = iterator(chain)\n",
    "x"
   ]
  },
  {
   "cell_type": "code",
   "execution_count": 17,
   "metadata": {},
   "outputs": [
    {
     "name": "stdout",
     "output_type": "stream",
     "text": [
      "['Q', 'c', 'm', 'e', 'H', 'y', 'W', 'M', 'v', 'k', 'x', 'F', 't', 'F', 's', 'v', 'R', 'm', 'C', 'R']\n"
     ]
    }
   ],
   "source": [
    "show_content(x(phrase_1,phrase_2))"
   ]
  },
  {
   "cell_type": "markdown",
   "metadata": {},
   "source": [
    "<center><h3>CHAIN.FROM_ITERABLE</h3></center>"
   ]
  },
  {
   "cell_type": "code",
   "execution_count": 18,
   "metadata": {},
   "outputs": [
    {
     "data": {
      "text/plain": [
       "<function chain.from_iterable>"
      ]
     },
     "execution_count": 18,
     "metadata": {},
     "output_type": "execute_result"
    }
   ],
   "source": [
    "x = iterator(chain.from_iterable)\n",
    "x"
   ]
  },
  {
   "cell_type": "code",
   "execution_count": 19,
   "metadata": {},
   "outputs": [
    {
     "name": "stdout",
     "output_type": "stream",
     "text": [
      "['Q', 'c', 'm', 'e', 'H', 'y', 'W', 'M', 'v', 'k', 'x', 'F', 't', 'F', 's', 'v', 'R', 'm', 'C', 'R']\n"
     ]
    }
   ],
   "source": [
    "show_content(x(list_phrase_1))"
   ]
  },
  {
   "cell_type": "code",
   "execution_count": 20,
   "metadata": {},
   "outputs": [
    {
     "name": "stdout",
     "output_type": "stream",
     "text": [
      "['l', 'L', 'Y', 'x', 'P', 'u', 'w', 'r', 'w', 'F', 'I', 'V', 'I', 'I', 'J', 'k', 'm', 's', 'Y', 'v']\n"
     ]
    }
   ],
   "source": [
    "show_content(x(list_phrase_2))"
   ]
  },
  {
   "cell_type": "markdown",
   "metadata": {},
   "source": [
    "<center><h3>COMPRESS</h3></center>"
   ]
  },
  {
   "cell_type": "code",
   "execution_count": 21,
   "metadata": {},
   "outputs": [
    {
     "data": {
      "text/plain": [
       "itertools.compress"
      ]
     },
     "execution_count": 21,
     "metadata": {},
     "output_type": "execute_result"
    }
   ],
   "source": [
    "x = iterator(compress)\n",
    "x"
   ]
  },
  {
   "cell_type": "code",
   "execution_count": 22,
   "metadata": {},
   "outputs": [
    {
     "name": "stdout",
     "output_type": "stream",
     "text": [
      "['H', 'y', 'F', 't', 'F', 's', 'm', 'C']\n"
     ]
    }
   ],
   "source": [
    "show_content(x(phrase_1, list_binary_numbers))"
   ]
  },
  {
   "cell_type": "code",
   "execution_count": 23,
   "metadata": {},
   "outputs": [
    {
     "name": "stdout",
     "output_type": "stream",
     "text": [
      "['P', 'u', 'V', 'I', 'I', 'J', 's', 'Y']\n"
     ]
    }
   ],
   "source": [
    "show_content(x(phrase_2, list_binary_numbers))"
   ]
  },
  {
   "cell_type": "markdown",
   "metadata": {},
   "source": [
    "<center><h3>DROPWHILE</h3></center>"
   ]
  },
  {
   "cell_type": "code",
   "execution_count": 24,
   "metadata": {},
   "outputs": [
    {
     "data": {
      "text/plain": [
       "itertools.dropwhile"
      ]
     },
     "execution_count": 24,
     "metadata": {},
     "output_type": "execute_result"
    }
   ],
   "source": [
    "x = iterator(dropwhile)\n",
    "x"
   ]
  },
  {
   "cell_type": "code",
   "execution_count": 25,
   "metadata": {},
   "outputs": [
    {
     "name": "stdout",
     "output_type": "stream",
     "text": [
      "[25, 36, 49, 64, 81, 100, 121, 144, 169, 196, 225, 256, 289, 324, 361]\n"
     ]
    }
   ],
   "source": [
    "show_content(x(lambda x: x<size, list_numbers))"
   ]
  },
  {
   "cell_type": "markdown",
   "metadata": {},
   "source": [
    "<center><h3>FILTERFALSE</h3></center>"
   ]
  },
  {
   "cell_type": "code",
   "execution_count": 26,
   "metadata": {},
   "outputs": [
    {
     "data": {
      "text/plain": [
       "itertools.filterfalse"
      ]
     },
     "execution_count": 26,
     "metadata": {},
     "output_type": "execute_result"
    }
   ],
   "source": [
    "x = iterator(filterfalse)\n",
    "x"
   ]
  },
  {
   "cell_type": "code",
   "execution_count": 27,
   "metadata": {},
   "outputs": [
    {
     "name": "stdout",
     "output_type": "stream",
     "text": [
      "[0, 9, 36, 81, 144, 225, 324]\n"
     ]
    }
   ],
   "source": [
    "show_content(x(lambda x: x%3, list_numbers))"
   ]
  },
  {
   "cell_type": "markdown",
   "metadata": {},
   "source": [
    "<center><h3>ISLICE</h3></center>"
   ]
  },
  {
   "cell_type": "code",
   "execution_count": 28,
   "metadata": {},
   "outputs": [
    {
     "data": {
      "text/plain": [
       "itertools.islice"
      ]
     },
     "execution_count": 28,
     "metadata": {},
     "output_type": "execute_result"
    }
   ],
   "source": [
    "x = iterator(islice)\n",
    "x"
   ]
  },
  {
   "cell_type": "code",
   "execution_count": 29,
   "metadata": {},
   "outputs": [
    {
     "name": "stdout",
     "output_type": "stream",
     "text": [
      "['Q', 'c', 'm', 'e']\n"
     ]
    }
   ],
   "source": [
    "show_content(x(phrase_1,4))"
   ]
  },
  {
   "cell_type": "code",
   "execution_count": 30,
   "metadata": {},
   "outputs": [
    {
     "name": "stdout",
     "output_type": "stream",
     "text": [
      "['l', 'L', 'Y', 'x']\n"
     ]
    }
   ],
   "source": [
    "show_content(x(phrase_2,4))"
   ]
  },
  {
   "cell_type": "markdown",
   "metadata": {},
   "source": [
    "<center><h3>STARMAP</h3></center>"
   ]
  },
  {
   "cell_type": "code",
   "execution_count": 31,
   "metadata": {},
   "outputs": [
    {
     "data": {
      "text/plain": [
       "itertools.starmap"
      ]
     },
     "execution_count": 31,
     "metadata": {},
     "output_type": "execute_result"
    }
   ],
   "source": [
    "x = iterator(starmap)\n",
    "x"
   ]
  },
  {
   "cell_type": "code",
   "execution_count": 32,
   "metadata": {},
   "outputs": [
    {
     "name": "stdout",
     "output_type": "stream",
     "text": [
      "[(0, 13), (1, 11), (4, 1), (9, 6), (16, 11), (25, 5), (36, 6), (49, 14), (64, 7), (81, 9), (100, 17), (121, 17), (144, 14), (169, 0), (196, 11), (225, 11), (256, 18), (289, 15), (324, 4), (361, 16)]\n"
     ]
    }
   ],
   "source": [
    "values = list(zip(list_numbers, [random.randrange(size) for i in list_numbers]))\n",
    "print(values)"
   ]
  },
  {
   "cell_type": "code",
   "execution_count": 33,
   "metadata": {},
   "outputs": [
    {
     "name": "stdout",
     "output_type": "stream",
     "text": [
      "[0, 1, 4, 531441, 17592186044416, 9765625, 2176782336, 459986536544739960976801, 4398046511104, 150094635296999121, 10000000000000000000000000000000000, 255476698618765889551019445759400441, 1648446623609512543951043690496, 1, 16398978063355821105872896, 74818276426792144775390625, 22300745198530623141535718272648361505980416, 8193465725814765556554001028792218849, 11019960576, 83198449060887472631428936505541918917761]\n"
     ]
    }
   ],
   "source": [
    "show_content(x(pow, values))"
   ]
  },
  {
   "cell_type": "markdown",
   "metadata": {},
   "source": [
    "<center><h3>TAKEWHILE</h3></center>"
   ]
  },
  {
   "cell_type": "code",
   "execution_count": 34,
   "metadata": {},
   "outputs": [
    {
     "data": {
      "text/plain": [
       "itertools.takewhile"
      ]
     },
     "execution_count": 34,
     "metadata": {},
     "output_type": "execute_result"
    }
   ],
   "source": [
    "x = iterator(takewhile)\n",
    "x"
   ]
  },
  {
   "cell_type": "code",
   "execution_count": 35,
   "metadata": {},
   "outputs": [
    {
     "name": "stdout",
     "output_type": "stream",
     "text": [
      "[0, 1, 4, 9, 16]\n"
     ]
    }
   ],
   "source": [
    "show_content(x(lambda x: x<size, list_numbers))"
   ]
  },
  {
   "cell_type": "markdown",
   "metadata": {},
   "source": [
    "<center><h3>ZIP_LONGEST</h3></center>"
   ]
  },
  {
   "cell_type": "code",
   "execution_count": 36,
   "metadata": {},
   "outputs": [
    {
     "data": {
      "text/plain": [
       "itertools.zip_longest"
      ]
     },
     "execution_count": 36,
     "metadata": {},
     "output_type": "execute_result"
    }
   ],
   "source": [
    "x = iterator(zip_longest)\n",
    "x"
   ]
  },
  {
   "cell_type": "code",
   "execution_count": 37,
   "metadata": {},
   "outputs": [
    {
     "name": "stdout",
     "output_type": "stream",
     "text": [
      "[('Q', 'l'), ('c', 'L'), ('m', 'Y'), ('e', 'x'), ('H', 'P'), ('y', 'u'), ('W', 'w'), ('M', 'r'), ('v', 'w'), ('k', 'F'), ('x', 'I'), ('F', 'V'), ('t', 'I'), ('F', 'I'), ('s', 'J'), ('v', 'k'), ('R', 'm'), ('m', 's'), ('C', 'Y'), ('R', 'v')]\n"
     ]
    }
   ],
   "source": [
    "show_content(x(phrase_union, list_phrase_2, fillvalue='-'))"
   ]
  },
  {
   "cell_type": "code",
   "execution_count": 38,
   "metadata": {},
   "outputs": [
    {
     "name": "stdout",
     "output_type": "stream",
     "text": [
      "[('A', 'Q'), ('B', 'c'), ('C', 'm'), ('D', 'e'), ('-', 'H'), ('-', 'y'), ('-', 'W'), ('-', 'M'), ('-', 'v'), ('-', 'k'), ('-', 'x'), ('-', 'F'), ('-', 't'), ('-', 'F'), ('-', 's'), ('-', 'v'), ('-', 'R'), ('-', 'm'), ('-', 'C'), ('-', 'R')]\n"
     ]
    }
   ],
   "source": [
    "show_content(x('ABCD', phrase_1, fillvalue='-'))"
   ]
  },
  {
   "cell_type": "markdown",
   "metadata": {},
   "source": [
    "<center><h3>TEE</h3></center>"
   ]
  },
  {
   "cell_type": "code",
   "execution_count": 39,
   "metadata": {},
   "outputs": [
    {
     "data": {
      "text/plain": [
       "<function itertools.tee>"
      ]
     },
     "execution_count": 39,
     "metadata": {},
     "output_type": "execute_result"
    }
   ],
   "source": [
    "x = iterator(tee)\n",
    "x"
   ]
  },
  {
   "cell_type": "code",
   "execution_count": 40,
   "metadata": {},
   "outputs": [],
   "source": [
    "a,b = x(list_numbers)"
   ]
  },
  {
   "cell_type": "code",
   "execution_count": 41,
   "metadata": {},
   "outputs": [
    {
     "name": "stdout",
     "output_type": "stream",
     "text": [
      "[0, 1, 4, 9, 16, 25, 36, 49, 64, 81, 100, 121, 144, 169, 196, 225, 256, 289, 324, 361]\n"
     ]
    }
   ],
   "source": [
    "show_content(a)"
   ]
  },
  {
   "cell_type": "code",
   "execution_count": 42,
   "metadata": {},
   "outputs": [
    {
     "name": "stdout",
     "output_type": "stream",
     "text": [
      "[0, 1, 4, 9, 16, 25, 36, 49, 64, 81, 100, 121, 144, 169, 196, 225, 256, 289, 324, 361]\n"
     ]
    }
   ],
   "source": [
    "show_content(b)"
   ]
  },
  {
   "cell_type": "markdown",
   "metadata": {},
   "source": [
    "<center><h3>GROUPBY</h3></center>"
   ]
  },
  {
   "cell_type": "code",
   "execution_count": 43,
   "metadata": {},
   "outputs": [
    {
     "data": {
      "text/plain": [
       "itertools.groupby"
      ]
     },
     "execution_count": 43,
     "metadata": {},
     "output_type": "execute_result"
    }
   ],
   "source": [
    "x = iterator(groupby)\n",
    "x"
   ]
  },
  {
   "cell_type": "code",
   "execution_count": 44,
   "metadata": {},
   "outputs": [
    {
     "name": "stdout",
     "output_type": "stream",
     "text": [
      "[0, 1, 4, 9, 16, 25, 36, 49, 64, 81, 100, 121, 144, 169, 196, 225, 256, 289, 324, 361, 0, 0, 0, 0, 1, 1, 0, 0, 0, 0, 0, 1, 1, 1, 1, 0, 0, 1, 1, 0, 10, 61, 27, 49, 88, 47, 5, 23, 61, 11, 65, 40, 73, 69, 82, 92, 26, 16, 63, 81, 75, 38, 25, 96, 46, 68, 68, 1, 98, 65, 51, 23, 93, 95, 64, 50, 51, 74, 98, 73, 32, 70, 84, 77, 94, 54, 54, 12, 6, 14]\n"
     ]
    }
   ],
   "source": [
    "print(list_union)"
   ]
  },
  {
   "cell_type": "markdown",
   "metadata": {},
   "source": [
    "<center><h3>GROUPBY unordered list</h3></center>"
   ]
  },
  {
   "cell_type": "code",
   "execution_count": 45,
   "metadata": {},
   "outputs": [
    {
     "name": "stdout",
     "output_type": "stream",
     "text": [
      "keys [0, 1, 4, 9, 16, 25, 36, 49, 64, 81, 100, 121, 144, 169, 196, 225, 256, 289, 324, 361, 0, 1, 0, 1, 0, 1, 0, 10, 61, 27, 49, 88, 47, 5, 23, 61, 11, 65, 40, 73, 69, 82, 92, 26, 16, 63, 81, 75, 38, 25, 96, 46, 68, 1, 98, 65, 51, 23, 93, 95, 64, 50, 51, 74, 98, 73, 32, 70, 84, 77, 94, 54, 12, 6, 14]\n",
      "\n",
      "groups [[0], [1], [4], [9], [16], [25], [36], [49], [64], [81], [100], [121], [144], [169], [196], [225], [256], [289], [324], [361], [0, 0, 0, 0], [1, 1], [0, 0, 0, 0, 0], [1, 1, 1, 1], [0, 0], [1, 1], [0], [10], [61], [27], [49], [88], [47], [5], [23], [61], [11], [65], [40], [73], [69], [82], [92], [26], [16], [63], [81], [75], [38], [25], [96], [46], [68, 68], [1], [98], [65], [51], [23], [93], [95], [64], [50], [51], [74], [98], [73], [32], [70], [84], [77], [94], [54, 54], [12], [6], [14]]\n",
      "([0, 1, 4, 9, 16, 25, 36, 49, 64, 81, 100, 121, 144, 169, 196, 225, 256, 289, 324, 361, 0, 1, 0, 1, 0, 1, 0, 10, 61, 27, 49, 88, 47, 5, 23, 61, 11, 65, 40, 73, 69, 82, 92, 26, 16, 63, 81, 75, 38, 25, 96, 46, 68, 1, 98, 65, 51, 23, 93, 95, 64, 50, 51, 74, 98, 73, 32, 70, 84, 77, 94, 54, 12, 6, 14], [[0], [1], [4], [9], [16], [25], [36], [49], [64], [81], [100], [121], [144], [169], [196], [225], [256], [289], [324], [361], [0, 0, 0, 0], [1, 1], [0, 0, 0, 0, 0], [1, 1, 1, 1], [0, 0], [1, 1], [0], [10], [61], [27], [49], [88], [47], [5], [23], [61], [11], [65], [40], [73], [69], [82], [92], [26], [16], [63], [81], [75], [38], [25], [96], [46], [68, 68], [1], [98], [65], [51], [23], [93], [95], [64], [50], [51], [74], [98], [73], [32], [70], [84], [77], [94], [54, 54], [12], [6], [14]])\n"
     ]
    }
   ],
   "source": [
    "print(show_content_group(x(list_union)))"
   ]
  },
  {
   "cell_type": "markdown",
   "metadata": {},
   "source": [
    "<center><h3>GROUPBY ordered list</h3></center>"
   ]
  },
  {
   "cell_type": "code",
   "execution_count": 46,
   "metadata": {},
   "outputs": [
    {
     "name": "stdout",
     "output_type": "stream",
     "text": [
      "keys [0, 1, 4, 5, 6, 9, 10, 11, 12, 14, 16, 23, 25, 26, 27, 32, 36, 38, 40, 46, 47, 49, 50, 51, 54, 61, 63, 64, 65, 68, 69, 70, 73, 74, 75, 77, 81, 82, 84, 88, 92, 93, 94, 95, 96, 98, 100, 121, 144, 169, 196, 225, 256, 289, 324, 361]\n",
      "\n",
      "groups [[0, 0, 0, 0, 0, 0, 0, 0, 0, 0, 0, 0, 0], [1, 1, 1, 1, 1, 1, 1, 1, 1, 1], [4], [5], [6], [9], [10], [11], [12], [14], [16, 16], [23, 23], [25, 25], [26], [27], [32], [36], [38], [40], [46], [47], [49, 49], [50], [51, 51], [54, 54], [61, 61], [63], [64, 64], [65, 65], [68, 68], [69], [70], [73, 73], [74], [75], [77], [81, 81], [82], [84], [88], [92], [93], [94], [95], [96], [98, 98], [100], [121], [144], [169], [196], [225], [256], [289], [324], [361]]\n",
      "([0, 1, 4, 5, 6, 9, 10, 11, 12, 14, 16, 23, 25, 26, 27, 32, 36, 38, 40, 46, 47, 49, 50, 51, 54, 61, 63, 64, 65, 68, 69, 70, 73, 74, 75, 77, 81, 82, 84, 88, 92, 93, 94, 95, 96, 98, 100, 121, 144, 169, 196, 225, 256, 289, 324, 361], [[0, 0, 0, 0, 0, 0, 0, 0, 0, 0, 0, 0, 0], [1, 1, 1, 1, 1, 1, 1, 1, 1, 1], [4], [5], [6], [9], [10], [11], [12], [14], [16, 16], [23, 23], [25, 25], [26], [27], [32], [36], [38], [40], [46], [47], [49, 49], [50], [51, 51], [54, 54], [61, 61], [63], [64, 64], [65, 65], [68, 68], [69], [70], [73, 73], [74], [75], [77], [81, 81], [82], [84], [88], [92], [93], [94], [95], [96], [98, 98], [100], [121], [144], [169], [196], [225], [256], [289], [324], [361]])\n"
     ]
    }
   ],
   "source": [
    "print(show_content_group(x(sorted(list_union))))"
   ]
  },
  {
   "cell_type": "markdown",
   "metadata": {},
   "source": [
    "<center><h3>keys and groups from GROUPBY</h3></center>"
   ]
  },
  {
   "cell_type": "code",
   "execution_count": 47,
   "metadata": {},
   "outputs": [
    {
     "name": "stdout",
     "output_type": "stream",
     "text": [
      "keys [0, 1, 4, 5, 6, 9, 10, 11, 12, 14, 16, 23, 25, 26, 27, 32, 36, 38, 40, 46, 47, 49, 50, 51, 54, 61, 63, 64, 65, 68, 69, 70, 73, 74, 75, 77, 81, 82, 84, 88, 92, 93, 94, 95, 96, 98, 100, 121, 144, 169, 196, 225, 256, 289, 324, 361]\n",
      "\n",
      "groups [[0, 0, 0, 0, 0, 0, 0, 0, 0, 0, 0, 0, 0], [1, 1, 1, 1, 1, 1, 1, 1, 1, 1], [4], [5], [6], [9], [10], [11], [12], [14], [16, 16], [23, 23], [25, 25], [26], [27], [32], [36], [38], [40], [46], [47], [49, 49], [50], [51, 51], [54, 54], [61, 61], [63], [64, 64], [65, 65], [68, 68], [69], [70], [73, 73], [74], [75], [77], [81, 81], [82], [84], [88], [92], [93], [94], [95], [96], [98, 98], [100], [121], [144], [169], [196], [225], [256], [289], [324], [361]]\n"
     ]
    }
   ],
   "source": [
    "keys, groups = show_content_group(x(sorted(list_union)))"
   ]
  },
  {
   "cell_type": "markdown",
   "metadata": {},
   "source": [
    "<center><h3>GROUPBY in a classic dictionary</h3></center>"
   ]
  },
  {
   "cell_type": "code",
   "execution_count": 48,
   "metadata": {},
   "outputs": [
    {
     "name": "stdout",
     "output_type": "stream",
     "text": [
      "{0: [0, 0, 0, 0, 0, 0, 0, 0, 0, 0, 0, 0, 0], 1: [1, 1, 1, 1, 1, 1, 1, 1, 1, 1], 4: [4], 5: [5], 6: [6], 9: [9], 10: [10], 11: [11], 12: [12], 14: [14], 16: [16, 16], 23: [23, 23], 25: [25, 25], 26: [26], 27: [27], 32: [32], 36: [36], 38: [38], 40: [40], 46: [46], 47: [47], 49: [49, 49], 50: [50], 51: [51, 51], 54: [54, 54], 61: [61, 61], 63: [63], 64: [64, 64], 65: [65, 65], 68: [68, 68], 69: [69], 70: [70], 73: [73, 73], 74: [74], 75: [75], 77: [77], 81: [81, 81], 82: [82], 84: [84], 88: [88], 92: [92], 93: [93], 94: [94], 95: [95], 96: [96], 98: [98, 98], 100: [100], 121: [121], 144: [144], 169: [169], 196: [196], 225: [225], 256: [256], 289: [289], 324: [324], 361: [361]}\n"
     ]
    }
   ],
   "source": [
    "classic_dictionary = dict(zip(keys,groups))\n",
    "print(classic_dictionary)"
   ]
  },
  {
   "cell_type": "code",
   "execution_count": 49,
   "metadata": {},
   "outputs": [
    {
     "data": {
      "text/plain": [
       "dict_keys([0, 1, 4, 5, 6, 9, 10, 11, 12, 14, 16, 23, 25, 26, 27, 32, 36, 38, 40, 46, 47, 49, 50, 51, 54, 61, 63, 64, 65, 68, 69, 70, 73, 74, 75, 77, 81, 82, 84, 88, 92, 93, 94, 95, 96, 98, 100, 121, 144, 169, 196, 225, 256, 289, 324, 361])"
      ]
     },
     "execution_count": 49,
     "metadata": {},
     "output_type": "execute_result"
    }
   ],
   "source": [
    "classic_dictionary.keys()"
   ]
  },
  {
   "cell_type": "code",
   "execution_count": 50,
   "metadata": {},
   "outputs": [
    {
     "data": {
      "text/plain": [
       "dict_values([[0, 0, 0, 0, 0, 0, 0, 0, 0, 0, 0, 0, 0], [1, 1, 1, 1, 1, 1, 1, 1, 1, 1], [4], [5], [6], [9], [10], [11], [12], [14], [16, 16], [23, 23], [25, 25], [26], [27], [32], [36], [38], [40], [46], [47], [49, 49], [50], [51, 51], [54, 54], [61, 61], [63], [64, 64], [65, 65], [68, 68], [69], [70], [73, 73], [74], [75], [77], [81, 81], [82], [84], [88], [92], [93], [94], [95], [96], [98, 98], [100], [121], [144], [169], [196], [225], [256], [289], [324], [361]])"
      ]
     },
     "execution_count": 50,
     "metadata": {},
     "output_type": "execute_result"
    }
   ],
   "source": [
    "classic_dictionary.values()"
   ]
  },
  {
   "cell_type": "markdown",
   "metadata": {},
   "source": [
    "<center><h3>GROUPBY in a dictionary  with ocurrences</h3></center>"
   ]
  },
  {
   "cell_type": "code",
   "execution_count": null,
   "metadata": {},
   "outputs": [],
   "source": []
  },
  {
   "cell_type": "code",
   "execution_count": 51,
   "metadata": {
    "scrolled": true
   },
   "outputs": [
    {
     "name": "stdout",
     "output_type": "stream",
     "text": [
      "{0: 13, 1: 10, 4: 1, 5: 1, 6: 1, 9: 1, 10: 1, 11: 1, 12: 1, 14: 1, 16: 2, 23: 2, 25: 2, 26: 1, 27: 1, 32: 1, 36: 1, 38: 1, 40: 1, 46: 1, 47: 1, 49: 2, 50: 1, 51: 2, 54: 2, 61: 2, 63: 1, 64: 2, 65: 2, 68: 2, 69: 1, 70: 1, 73: 2, 74: 1, 75: 1, 77: 1, 81: 2, 82: 1, 84: 1, 88: 1, 92: 1, 93: 1, 94: 1, 95: 1, 96: 1, 98: 2, 100: 1, 121: 1, 144: 1, 169: 1, 196: 1, 225: 1, 256: 1, 289: 1, 324: 1, 361: 1}\n"
     ]
    }
   ],
   "source": [
    "dictionary_with_ocurrences = obtain_dictionary_with_ocurrences(groups)\n",
    "print(dictionary_with_ocurrences)"
   ]
  },
  {
   "cell_type": "code",
   "execution_count": 52,
   "metadata": {},
   "outputs": [
    {
     "data": {
      "text/plain": [
       "dict_keys([0, 1, 4, 5, 6, 9, 10, 11, 12, 14, 16, 23, 25, 26, 27, 32, 36, 38, 40, 46, 47, 49, 50, 51, 54, 61, 63, 64, 65, 68, 69, 70, 73, 74, 75, 77, 81, 82, 84, 88, 92, 93, 94, 95, 96, 98, 100, 121, 144, 169, 196, 225, 256, 289, 324, 361])"
      ]
     },
     "execution_count": 52,
     "metadata": {},
     "output_type": "execute_result"
    }
   ],
   "source": [
    "dictionary_with_ocurrences.keys()"
   ]
  },
  {
   "cell_type": "code",
   "execution_count": 53,
   "metadata": {},
   "outputs": [
    {
     "data": {
      "text/plain": [
       "dict_values([13, 10, 1, 1, 1, 1, 1, 1, 1, 1, 2, 2, 2, 1, 1, 1, 1, 1, 1, 1, 1, 2, 1, 2, 2, 2, 1, 2, 2, 2, 1, 1, 2, 1, 1, 1, 2, 1, 1, 1, 1, 1, 1, 1, 1, 2, 1, 1, 1, 1, 1, 1, 1, 1, 1, 1])"
      ]
     },
     "execution_count": 53,
     "metadata": {},
     "output_type": "execute_result"
    }
   ],
   "source": [
    "dictionary_with_ocurrences.values()"
   ]
  },
  {
   "cell_type": "markdown",
   "metadata": {},
   "source": [
    "<center><h3>SORTED_DICTIONARY_WITH_OCURRENCES</h3></center>"
   ]
  },
  {
   "cell_type": "code",
   "execution_count": 54,
   "metadata": {},
   "outputs": [
    {
     "name": "stdout",
     "output_type": "stream",
     "text": [
      "{0: 13, 1: 10, 4: 1, 5: 1, 6: 1, 9: 1, 10: 1, 11: 1, 12: 1, 14: 1, 16: 2, 23: 2, 25: 2, 26: 1, 27: 1, 32: 1, 36: 1, 38: 1, 40: 1, 46: 1, 47: 1, 49: 2, 50: 1, 51: 2, 54: 2, 61: 2, 63: 1, 64: 2, 65: 2, 68: 2, 69: 1, 70: 1, 73: 2, 74: 1, 75: 1, 77: 1, 81: 2, 82: 1, 84: 1, 88: 1, 92: 1, 93: 1, 94: 1, 95: 1, 96: 1, 98: 2, 100: 1, 121: 1, 144: 1, 169: 1, 196: 1, 225: 1, 256: 1, 289: 1, 324: 1, 361: 1}\n"
     ]
    }
   ],
   "source": [
    "sorted_dictionary_with_ocurrences = dict(sorted(dictionary_with_ocurrences.items()))\n",
    "print(sorted_dictionary_with_ocurrences)"
   ]
  },
  {
   "cell_type": "code",
   "execution_count": 55,
   "metadata": {
    "scrolled": true
   },
   "outputs": [
    {
     "data": {
      "text/plain": [
       "dict_keys([0, 1, 4, 5, 6, 9, 10, 11, 12, 14, 16, 23, 25, 26, 27, 32, 36, 38, 40, 46, 47, 49, 50, 51, 54, 61, 63, 64, 65, 68, 69, 70, 73, 74, 75, 77, 81, 82, 84, 88, 92, 93, 94, 95, 96, 98, 100, 121, 144, 169, 196, 225, 256, 289, 324, 361])"
      ]
     },
     "execution_count": 55,
     "metadata": {},
     "output_type": "execute_result"
    }
   ],
   "source": [
    "sorted_dictionary_with_ocurrences.keys()"
   ]
  },
  {
   "cell_type": "code",
   "execution_count": 56,
   "metadata": {},
   "outputs": [
    {
     "data": {
      "text/plain": [
       "dict_values([13, 10, 1, 1, 1, 1, 1, 1, 1, 1, 2, 2, 2, 1, 1, 1, 1, 1, 1, 1, 1, 2, 1, 2, 2, 2, 1, 2, 2, 2, 1, 1, 2, 1, 1, 1, 2, 1, 1, 1, 1, 1, 1, 1, 1, 2, 1, 1, 1, 1, 1, 1, 1, 1, 1, 1])"
      ]
     },
     "execution_count": 56,
     "metadata": {},
     "output_type": "execute_result"
    }
   ],
   "source": [
    "sorted_dictionary_with_ocurrences.values()"
   ]
  },
  {
   "cell_type": "markdown",
   "metadata": {},
   "source": [
    "<center><h3>DICTIONARY TO JSON</h3></center>"
   ]
  },
  {
   "cell_type": "code",
   "execution_count": 57,
   "metadata": {},
   "outputs": [
    {
     "name": "stdout",
     "output_type": "stream",
     "text": [
      "{'0': 13, '1': 10, '4': 1, '5': 1, '6': 1, '9': 1, '10': 1, '11': 1, '12': 1, '14': 1, '16': 2, '23': 2, '25': 2, '26': 1, '27': 1, '32': 1, '36': 1, '38': 1, '40': 1, '46': 1, '47': 1, '49': 2, '50': 1, '51': 2, '54': 2, '61': 2, '63': 1, '64': 2, '65': 2, '68': 2, '69': 1, '70': 1, '73': 2, '74': 1, '75': 1, '77': 1, '81': 2, '82': 1, '84': 1, '88': 1, '92': 1, '93': 1, '94': 1, '95': 1, '96': 1, '98': 2, '100': 1, '121': 1, '144': 1, '169': 1, '196': 1, '225': 1, '256': 1, '289': 1, '324': 1, '361': 1}\n"
     ]
    }
   ],
   "source": [
    "print(dict_to_json(dictionary_with_ocurrences))"
   ]
  },
  {
   "cell_type": "code",
   "execution_count": 58,
   "metadata": {},
   "outputs": [
    {
     "name": "stdout",
     "output_type": "stream",
     "text": [
      "{'0': [0, 0, 0, 0, 0, 0, 0, 0, 0, 0, 0, 0, 0], '1': [1, 1, 1, 1, 1, 1, 1, 1, 1, 1], '4': [4], '5': [5], '6': [6], '9': [9], '10': [10], '11': [11], '12': [12], '14': [14], '16': [16, 16], '23': [23, 23], '25': [25, 25], '26': [26], '27': [27], '32': [32], '36': [36], '38': [38], '40': [40], '46': [46], '47': [47], '49': [49, 49], '50': [50], '51': [51, 51], '54': [54, 54], '61': [61, 61], '63': [63], '64': [64, 64], '65': [65, 65], '68': [68, 68], '69': [69], '70': [70], '73': [73, 73], '74': [74], '75': [75], '77': [77], '81': [81, 81], '82': [82], '84': [84], '88': [88], '92': [92], '93': [93], '94': [94], '95': [95], '96': [96], '98': [98, 98], '100': [100], '121': [121], '144': [144], '169': [169], '196': [196], '225': [225], '256': [256], '289': [289], '324': [324], '361': [361]}\n"
     ]
    }
   ],
   "source": [
    "print(dict_to_json(classic_dictionary))"
   ]
  }
 ],
 "metadata": {
  "kernelspec": {
   "display_name": "Python 3",
   "language": "python",
   "name": "python3"
  },
  "language_info": {
   "codemirror_mode": {
    "name": "ipython",
    "version": 3
   },
   "file_extension": ".py",
   "mimetype": "text/x-python",
   "name": "python",
   "nbconvert_exporter": "python",
   "pygments_lexer": "ipython3",
   "version": "3.7.4"
  }
 },
 "nbformat": 4,
 "nbformat_minor": 2
}
