{
 "cells": [
  {
   "cell_type": "markdown",
   "metadata": {},
   "source": [
    "# <center>Listar Archivos y Ficheros de un Directorio</center>"
   ]
  },
  {
   "cell_type": "code",
   "execution_count": 27,
   "metadata": {},
   "outputs": [],
   "source": [
    "from os import chdir, path, walk\n",
    "\n",
    "directorio_base = 'C:/Documentos'"
   ]
  },
  {
   "cell_type": "code",
   "execution_count": 28,
   "metadata": {
    "scrolled": true
   },
   "outputs": [],
   "source": [
    "def listar_archivos_y_directorios(directorio_base):\n",
    "    \n",
    "    chdir(directorio_base)\n",
    "    \n",
    "    directorios, archivos = [], []\n",
    "    \n",
    "    for ruta_base, carpetas, ficheros in walk(directorio_base, topdown=False):\n",
    "        for nombre_fichero in ficheros:\n",
    "            archivos.append(str(path.join(ruta_base,nombre_fichero)).replace('\\\\','/'))\n",
    "\n",
    "        for nombre_carpeta in carpetas:\n",
    "            directorios.append(str(path.join(ruta_base,nombre_carpeta)).replace('\\\\','/'))\n",
    "    \n",
    "    directorios.sort()\n",
    "    archivos.sort()\n",
    "    \n",
    "    return directorios, archivos\n",
    " \n",
    "directorios, archivos = listar_archivos_y_directorios(directorio_base)"
   ]
  },
  {
   "cell_type": "code",
   "execution_count": 29,
   "metadata": {
    "scrolled": true
   },
   "outputs": [
    {
     "name": "stdout",
     "output_type": "stream",
     "text": [
      "['C:/Documentos/01/Comunicado.pdf', 'C:/Documentos/Contactos.txt', 'C:/Documentos/Datos/presentacion.pptx', 'C:/Documentos/Reportes/Informe Anual/Balance 2019.docx', 'C:/Documentos/Reportes/tablas.xlsx']\n"
     ]
    }
   ],
   "source": [
    "print(archivos)"
   ]
  },
  {
   "cell_type": "code",
   "execution_count": 30,
   "metadata": {},
   "outputs": [
    {
     "name": "stdout",
     "output_type": "stream",
     "text": [
      "['C:/Documentos/01', 'C:/Documentos/Datos', 'C:/Documentos/Reportes', 'C:/Documentos/Reportes/Informe Anual']\n"
     ]
    }
   ],
   "source": [
    "print(directorios)"
   ]
  }
 ],
 "metadata": {
  "kernelspec": {
   "display_name": "Python 3",
   "language": "python",
   "name": "python3"
  },
  "language_info": {
   "codemirror_mode": {
    "name": "ipython",
    "version": 3
   },
   "file_extension": ".py",
   "mimetype": "text/x-python",
   "name": "python",
   "nbconvert_exporter": "python",
   "pygments_lexer": "ipython3",
   "version": "3.6.5"
  }
 },
 "nbformat": 4,
 "nbformat_minor": 2
}
