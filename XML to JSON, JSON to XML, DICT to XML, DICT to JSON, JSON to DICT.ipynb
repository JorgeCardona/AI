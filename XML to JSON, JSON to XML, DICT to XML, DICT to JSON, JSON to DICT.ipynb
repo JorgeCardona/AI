{
 "cells": [
  {
   "cell_type": "code",
   "execution_count": 1,
   "metadata": {},
   "outputs": [
    {
     "data": {
      "text/html": [
       "<style>.container { width:100% !important; }</style>"
      ],
      "text/plain": [
       "<IPython.core.display.HTML object>"
      ]
     },
     "metadata": {},
     "output_type": "display_data"
    }
   ],
   "source": [
    "# configura el notebook para que las celdas tomen todo el ancho de la pantalla\n",
    "from IPython.core.display import display, HTML\n",
    "display(HTML(\"<style>.container { width:100% !important; }</style>\"))"
   ]
  },
  {
   "cell_type": "code",
   "execution_count": 2,
   "metadata": {
    "scrolled": true
   },
   "outputs": [],
   "source": [
    "#!pip install xmltodict\n",
    "#!pip install json2xml\n",
    "#!pip install dicttoxml\n",
    "import xmltodict\n",
    "import json\n",
    "from dicttoxml import dicttoxml\n",
    "from json2xml.json2xml import Json2xml\n",
    "from json2xml.utils import readfromurl, readfromstring, readfromjson\n",
    "from xml.dom.minidom import parseString"
   ]
  },
  {
   "cell_type": "code",
   "execution_count": 3,
   "metadata": {},
   "outputs": [],
   "source": [
    "xml_file_name      = \"data.xml\"\n",
    "json_indentation   = 1\n",
    "json_file_name     = 'xml_to_json_file.json' \n",
    "xml_file_name_json = 'json_to_xml_file.xml'\n",
    "dict_file_name_xml = 'dictionary_to_xml_file.xml'\n",
    "wrapper_for_json2xml = 'All'"
   ]
  },
  {
   "cell_type": "code",
   "execution_count": 4,
   "metadata": {},
   "outputs": [],
   "source": [
    "def read_xml_like_string(xml_file):\n",
    "    \n",
    "    # opened the xml file, read it and has stored  like string.\n",
    "    xml_string_file = open(xml_file).read()\n",
    "    \n",
    "    # return a string from read xml\n",
    "    return xml_string_file   "
   ]
  },
  {
   "cell_type": "code",
   "execution_count": 5,
   "metadata": {},
   "outputs": [],
   "source": [
    "def convert_xml_file_to_dict(xml_file):\n",
    "\n",
    "    # read xml y convert it to string\n",
    "    string_xml = read_xml_like_string(xml_file)\n",
    "    \n",
    "    print(str(string_xml))\n",
    "    print()\n",
    "    # convert string to collections.OrderedDict\n",
    "    dict_file = xmltodict.parse(string_xml)\n",
    "    \n",
    "    # convert collections.OrderedDict to dict\n",
    "    dictionary = json.loads(json.dumps(dict_file))\n",
    "    \n",
    "    # oder the dictionary by key\n",
    "    dictionary = dict(sorted(dictionary.items()))\n",
    "    \n",
    "    # return the dictionary\n",
    "    return dictionary"
   ]
  },
  {
   "cell_type": "code",
   "execution_count": 6,
   "metadata": {},
   "outputs": [],
   "source": [
    "def convert_xml_string_to_dict(string_xml):\n",
    "    \n",
    "    # convert string to collections.OrderedDict\n",
    "    dict_file = xmltodict.parse(string_xml)\n",
    "    \n",
    "    # convert collections.OrderedDict to dict\n",
    "    dictionary = json.loads(json.dumps(dict_file))\n",
    "    \n",
    "    # oder the dictionary by key\n",
    "    dictionary = dict(sorted(dictionary.items()))\n",
    "    \n",
    "    # return the dictionary\n",
    "    return dictionary"
   ]
  },
  {
   "cell_type": "code",
   "execution_count": 7,
   "metadata": {},
   "outputs": [],
   "source": [
    "def convert_dict_to_xml (dictionary):\n",
    "        \n",
    "    # convert dictionary to xml and does not generate     \n",
    "    xml = dicttoxml(dictionary, root=False)\n",
    "\n",
    "    # convert the xml file to string\n",
    "    xml = parseString(xml).toprettyxml()\n",
    "\n",
    "    # return xml \n",
    "    return xml"
   ]
  },
  {
   "cell_type": "code",
   "execution_count": 8,
   "metadata": {},
   "outputs": [],
   "source": [
    "def convert_json_file_to_dict (json_file):\n",
    "    \n",
    "    # read the json file like string\n",
    "    with open(json_file) as json_file:\n",
    "        json_string_to_dictionary = json.load(json_file)    \n",
    "    \n",
    "    # return the dictionaary\n",
    "    return json_string_to_dictionary"
   ]
  },
  {
   "cell_type": "code",
   "execution_count": 9,
   "metadata": {},
   "outputs": [],
   "source": [
    "def convert_json_string_to_dict (string_json):\n",
    "    \n",
    "    # convert json string to dictionary\n",
    "    json_string_to_dictionary  = json.loads(string_json)\n",
    "    \n",
    "    # return the dictionaary\n",
    "    return json_string_to_dictionary"
   ]
  },
  {
   "cell_type": "code",
   "execution_count": 10,
   "metadata": {},
   "outputs": [],
   "source": [
    "def convert_dict_to_json (dictionary):\n",
    "        \n",
    "    # convert dictionary to string\n",
    "    json_from_dictionary  = json.dumps(dictionary).replace(\"'\", '\"')\n",
    "    \n",
    "    # convert string to json style, maybe the key has no comma\n",
    "    # then it doesn't work for quotes in a real json, \n",
    "    # and dictionary can be use quotes or without quotes for the keys.\n",
    "    json_from_dictionary = json.loads(json_from_dictionary)\n",
    "    \n",
    "    # generate json pretty with identaion\n",
    "    json_from_dictionary = json.dumps(json_from_dictionary, indent=json_indentation)\n",
    "    \n",
    "    # return a dict in json style\n",
    "    return json_from_dictionary"
   ]
  },
  {
   "cell_type": "code",
   "execution_count": 11,
   "metadata": {},
   "outputs": [],
   "source": [
    "def convert_xml_file_to_json (xml_file):\n",
    "\n",
    "    # obtain a string from xml\n",
    "    dictionary = convert_xml_file_to_dict(xml_file)\n",
    "\n",
    "    # convert a dictionary in json\n",
    "    json_string_file = convert_dict_to_json (dictionary)\n",
    "\n",
    "    # return a xml like json\n",
    "    return json_string_file   "
   ]
  },
  {
   "cell_type": "code",
   "execution_count": 12,
   "metadata": {},
   "outputs": [],
   "source": [
    "def convert_xml_string_to_json (string_xml):\n",
    "\n",
    "    # obtain a string from xml\n",
    "    dictionary = convert_xml_string_to_dict(string_xml)\n",
    "\n",
    "    # convert a dictionary in json\n",
    "    json_string_file = convert_dict_to_json (dictionary)\n",
    "\n",
    "    # return a xml like json\n",
    "    return json_string_file   "
   ]
  },
  {
   "cell_type": "code",
   "execution_count": 36,
   "metadata": {},
   "outputs": [],
   "source": [
    "def convert_from_json_file_to_xml(json_file):\n",
    "    \n",
    "    # read the json file information\n",
    "    json_data = readfromjson(json_file)\n",
    "    \n",
    "    # obtain xml file with the json information\n",
    "    xml_string_file = Json2xml(json_data, wrapper=wrapper_for_json2xml).to_xml()\n",
    "    \n",
    "    # return a json like xml\n",
    "    return xml_string_file"
   ]
  },
  {
   "cell_type": "code",
   "execution_count": 13,
   "metadata": {},
   "outputs": [],
   "source": [
    "def convert_json_string_to_xml(json_data):\n",
    "    \n",
    "    # obtain xml file with the json information\n",
    "    xml_string_file = Json2xml(json_data, wrapper = wrapper_for_json2xml).to_xml()\n",
    "    \n",
    "    # return a json like xml\n",
    "    return xml_string_file"
   ]
  },
  {
   "cell_type": "code",
   "execution_count": 15,
   "metadata": {},
   "outputs": [],
   "source": [
    "def convert_from_json_url_to_xml(json_url):\n",
    "    \n",
    "    # read the json file information\n",
    "    json_data = readfromurl(json_url)\n",
    "    \n",
    "    # obtain xml file with the json information\n",
    "    xml_string_file = Json2xml(json_data, wrapper = wrapper_for_json2xml).to_xml()\n",
    "    \n",
    "    # return a json like xml\n",
    "    return xml_string_file"
   ]
  },
  {
   "cell_type": "code",
   "execution_count": 16,
   "metadata": {},
   "outputs": [],
   "source": [
    "def convert_from_json_string_to_xml(string_json):\n",
    "    \n",
    "    # read the json file information\n",
    "    json_data = readfromstring(string_json)\n",
    "    \n",
    "    # obtain xml file with the json information\n",
    "    xml_string_file = Json2xml(json_data, wrapper = wrapper_for_json2xml).to_xml()\n",
    "    \n",
    "    # return a json like xml\n",
    "    return xml_string_file"
   ]
  },
  {
   "cell_type": "code",
   "execution_count": 17,
   "metadata": {},
   "outputs": [],
   "source": [
    "def create_file_and_save_data (function_name, functions_parametres, file_name, file_type):\n",
    "    \n",
    "    # select the funcion for processing\n",
    "    select_function  = show_function(function_name)\n",
    "    \n",
    "    # extract the data from function\n",
    "    data_for_save    = select_function(functions_parametres)\n",
    "    \n",
    "    # contains the file name taht creates\n",
    "    file_to_create = file_name + '.' + file_type\n",
    "    \n",
    "    # try to create to json file\n",
    "    try:\n",
    "        # create the file for save the data \n",
    "        file_data = open(file_to_create, \"wt\", encoding='utf-8')        \n",
    "\n",
    "        # save the xml file with the json information\n",
    "        file_data.write(str(data_for_save))\n",
    "        \n",
    "    # fail to create xml file\n",
    "    except Exception as ex:\n",
    "        \n",
    "        # capture exception message\n",
    "        message = ex\n",
    "     \n",
    "    # the operation is ok, and create the successfull message\n",
    "    else:\n",
    "        message = str(file_type + ' file ').upper()  + file_to_create + ', Was Create Successfully'\n",
    "    \n",
    "    # return the message obtain in the process\n",
    "    finally:\n",
    "        \n",
    "        # return message \n",
    "        return message"
   ]
  },
  {
   "cell_type": "code",
   "execution_count": 18,
   "metadata": {},
   "outputs": [],
   "source": [
    "def show_function(func): \n",
    "    \n",
    "    def select_funtion(*args): \n",
    "        print('Running \"{}\" with arguments {}'.format(func.__name__, args)) \n",
    "       \n",
    "        return func(*args)\n",
    "        \n",
    "    # Necessary for closure to work (returning WITHOUT parenthesis) \n",
    "    return select_funtion"
   ]
  },
  {
   "cell_type": "code",
   "execution_count": 37,
   "metadata": {},
   "outputs": [
    {
     "name": "stdout",
     "output_type": "stream",
     "text": [
      "Running \"convert_from_json_file_to_xml\" with arguments ('file_name_9998.json',)\n"
     ]
    },
    {
     "data": {
      "text/plain": [
       "'XML FILE 9998.xml, Was Create Successfully'"
      ]
     },
     "execution_count": 37,
     "metadata": {},
     "output_type": "execute_result"
    }
   ],
   "source": [
    "create_file_and_save_data (convert_from_json_file_to_xml, 'file_name_9998.json', '9998', 'xml')"
   ]
  }
 ],
 "metadata": {
  "kernelspec": {
   "display_name": "Python 3",
   "language": "python",
   "name": "python3"
  },
  "language_info": {
   "codemirror_mode": {
    "name": "ipython",
    "version": 3
   },
   "file_extension": ".py",
   "mimetype": "text/x-python",
   "name": "python",
   "nbconvert_exporter": "python",
   "pygments_lexer": "ipython3",
   "version": "3.7.4"
  }
 },
 "nbformat": 4,
 "nbformat_minor": 2
}
