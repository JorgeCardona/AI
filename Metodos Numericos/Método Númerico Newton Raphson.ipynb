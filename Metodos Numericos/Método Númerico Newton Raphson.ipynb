{
 "cells": [
  {
   "cell_type": "markdown",
   "metadata": {},
   "source": [
    "<font size=\"10\" color = \"red\"> <center> <h1>Jorge Cardona</h1> </center> </font>"
   ]
  },
  {
   "cell_type": "markdown",
   "metadata": {},
   "source": [
    "<font size=\"5\"> <center> <h1>Imagen tomada de https://upload.wikimedia.org/wikipedia/commons/e/e0/NewtonIteration_Ani.gif</h1> </center> </font>\n",
    "![Alt Text](https://upload.wikimedia.org/wikipedia/commons/e/e0/NewtonIteration_Ani.gif)"
   ]
  },
  {
   "cell_type": "code",
   "execution_count": 2,
   "metadata": {},
   "outputs": [],
   "source": [
    "# instalar estas extensiones para que se pueda usar variables dentro del markdown\n",
    "# es mejor instalar estos paquetes usando la terminal, ya que a veces no instalan\n",
    "# en ocasiones es necesario crear un nuevo notebook para que funcione\n",
    "#pip install jupyter_contrib_nbextensions\n",
    "#jupyter contrib nbextension install --user\n",
    "#jupyter nbextension enable python-markdown/main"
   ]
  },
  {
   "cell_type": "code",
   "execution_count": 3,
   "metadata": {},
   "outputs": [
    {
     "data": {
      "text/html": [
       "<style>.container { width:100% !important; }</style>"
      ],
      "text/plain": [
       "<IPython.core.display.HTML object>"
      ]
     },
     "metadata": {},
     "output_type": "display_data"
    }
   ],
   "source": [
    "# configura el tamano de cada celda al 100% de la pantalla\n",
    "from IPython.core.display import display, HTML\n",
    "display(HTML(\"<style>.container { width:100% !important; }</style>\"))"
   ]
  },
  {
   "cell_type": "code",
   "execution_count": 4,
   "metadata": {},
   "outputs": [],
   "source": [
    "# libreria que reune todas las características de un sistema de álgebra computacional \n",
    "# https://docs.sympy.org/0.7.2/tutorial.html\n",
    "import sympy\n",
    "\n",
    "#importa el valor infinito\n",
    "from sympy import oo as infinito\n",
    "\n",
    "# importa la libreria de simbolos, para interpretar las letras como variables en una ecuacion\n",
    "from sympy import symbols as sb\n",
    "\n",
    "#Declaramos las letras que se pueden usar para derivar en la funcion\n",
    "f,w,x,z = sb('f, w x z')\n",
    "\n",
    "#Utilizamos el método init_printing, para que muestre los resultados como ecuaciones y no como operaciones matematicas\n",
    "sympy.init_printing(use_unicode=True)"
   ]
  },
  {
   "cell_type": "code",
   "execution_count": 5,
   "metadata": {},
   "outputs": [],
   "source": [
    "# Nombre del método que se va a realizar\n",
    "metodo = \"Método Númerico Newton Raphson\"\n",
    "\n",
    "# declara la ecuacion que será la base del ejercicio\n",
    "y_original = (2*x**5) - (3*x**4) + (4*x**3) - (5*x**2) + (6*x) + 7 \n",
    "y_derivada = y_original.diff(x)\n",
    "y1 = y_original\n",
    "y2 = y_derivada\n",
    "\n",
    "# listas donde se van a guardar los valores de la grafica\n",
    "m = []\n",
    "n = []\n",
    "\n",
    "# convierte la ecuacion a notacion latex, para mostrar en el gráfico\n",
    "ecuacion_original = \"${\" + str(y_original).replace(\"**\",\"^\").replace(\"*\",\"\") + \"}$\"\n",
    "ecuacion_derivada = \"${\" + str(y_derivada).replace(\"**\",\"^\").replace(\"*\",\"\") + \"}$\""
   ]
  },
  {
   "cell_type": "markdown",
   "metadata": {
    "variables": {
     "ecuacion_derivada": "${10x^4 - 12x^3 + 12x^2 - 10x + 6}$",
     "ecuacion_original": "${2x^5 - 3x^4 + 4x^3 - 5x^2 + 6x + 7}$",
     "metodo": "Método Númerico Newton Raphson"
    }
   },
   "source": [
    "<font size=\"10\"> <center> <h1>{{metodo}}</h1> </center> </font>\n",
    "<font size=\"10\">$$x_{i+1} = x_{i} - \\frac{f(x_{i})}{f'(x_{i})}$$</font>\n",
    "<font size=\"5\"> <center> <h1>Función que se va a evaluar</h1> </center> </font>\n",
    "\n",
    "\n",
    "<font size=\"10\"><center> $y = $ {{ecuacion_original}}</center></font>\n",
    "<font size=\"5\"> <center> <h1>derivada de la función a evaluar</h1> </center> </font>\n",
    "<font size=\"10\"><center> $y' = $ {{ecuacion_derivada}}</center></font>\n",
    "\n",
    "<font size=\"5\"> <center> <h1>Función en notación matemática</h1> </center> </font>\n",
    "<font size=\"10\"><center> $f(x) = $ {{ecuacion_original}}</center></font>\n",
    "<font size=\"5\"> <center> <h1>Función igualada a cero, para encontrar su aproximación</h1> </center> </font>\n",
    "<font size=\"10\"><center> $f(x) = 0 $</center></font>"
   ]
  },
  {
   "cell_type": "code",
   "execution_count": 18,
   "metadata": {},
   "outputs": [],
   "source": [
    "# comienza a iterar en el rango que se quiere gráficar, cálcula la función para cada valor\n",
    "# guarda los valores de la funcion evaluada entre el rango\n",
    "def definir_valores_grafica(k,l,y1):\n",
    "    while (k > l):\n",
    "\n",
    "        # guarda los valores que se van a gráfica en el eje x\n",
    "        m.append(round(k,2))\n",
    "        # guarda los valores que se van a gráfica en el eje y\n",
    "        n.append(round(y1.subs(x,k),2))\n",
    "        # decremento de la variable que controla el loop, para garantizar que termine\n",
    "        k -= 0.1\n",
    "    # devuelve el resultado obtenido\n",
    "    return m,n"
   ]
  },
  {
   "cell_type": "code",
   "execution_count": 6,
   "metadata": {},
   "outputs": [],
   "source": [
    "def genera_valor_inicio(rango,divisiones_promedio):\n",
    "    \n",
    "    # asigna el numero de veces que se va a dividir la diferencia entre cero y valor del limite superior\n",
    "    if(rango <= 100):\n",
    "        divisiones_promedio *= 2\n",
    "    elif(rango <= 1000):\n",
    "        divisiones_promedio *= 20\n",
    "    elif(rango <= 10000):\n",
    "        divisiones_promedio *= 200\n",
    "    elif(rango <= 100000):\n",
    "        divisiones_promedio *= 2000\n",
    "    elif(rango <= 1000000):\n",
    "        divisiones_promedio *= 20000         \n",
    "    else:\n",
    "        divisiones_promedio *= 200000  \n",
    "        \n",
    "    return rango / divisiones_promedio"
   ]
  },
  {
   "cell_type": "code",
   "execution_count": 7,
   "metadata": {},
   "outputs": [],
   "source": [
    "def valor_inicio(conjunto_prueba,y1,contador_inferior,contador_superior,rango):\n",
    "    \n",
    "    for i in range(len(conjunto_prueba)):\n",
    "        \n",
    "        #calcula el valor de la funcion y lo asigna a la variable\n",
    "        calculo_funcion = y1.subs(x,conjunto_prueba[i])\n",
    "\n",
    "        # si el calculo de la funcion es cero, ya encontro el valor para resolver la ecuacion\n",
    "        if(calculo_funcion == 0):\n",
    "            #asigna el valor donde hace que la ecuacion sea cero\n",
    "            rango = calculo_funcion\n",
    "            #finaliza el ciclo, porque ya encontro el valor que satisface la ecuacion\n",
    "            break\n",
    "        else:\n",
    "            # comienza a crear una lista con los valores calculados de la funcion\n",
    "            valores.append(calculo_funcion)\n",
    "\n",
    "            # la funcion calculada tiene valores negativos y va a dar el limite inferior del rango\n",
    "            if(calculo_funcion < 0):\n",
    "\n",
    "                # verifica que no exista un valor asignado anteriormente como limite inferior\n",
    "                if(contador_inferior < 1):\n",
    "                    # asigna el valor del limite inferior del rango\n",
    "                    rango[0] = calculo_funcion\n",
    "\n",
    "                    #asegura de que no se vuelva a reescribir el valor\n",
    "                    contador_inferior += 1\n",
    "\n",
    "                # verifica que el valor actual sea mayor que el valor anterior, y el valor actual sea mayor al valor del rango en la posicion cero\n",
    "                # y si es asi, actualiza el valor como un nuevo limite inferior\n",
    "                elif((valores[i] > valores[i -1]) and (valores[i] > rango[0])):\n",
    "\n",
    "                    # asigna el valor del limite inferior del rango\n",
    "                    rango[0] = calculo_funcion\n",
    "\n",
    "            # la funcion calculada en ese valor tiene valor positivo  \n",
    "            else:\n",
    "                # verifica que no exista un valor asignado anteriormente como limite inferior\n",
    "                if(contador_superior < 1):\n",
    "                    # asigna el valor del limite inferior del rango\n",
    "                    rango[1] = calculo_funcion\n",
    "\n",
    "                    #asegura de que no se vuelva a reescribir el valor\n",
    "                    contador_superior += 1\n",
    "\n",
    "                # verifica que el valor actual sea menor que el valor anterior, y el valor actual sea menor al valor del rango en la posicion uno\n",
    "                # y si es asi, actualiza el valor como un nuevo limite superior\n",
    "                elif((valores[i] < valores[i -1]) and (valores[i] < rango[0])):\n",
    "\n",
    "                    # asigna el valor del limite superior del rango\n",
    "                    rango[1] = calculo_funcion   \n",
    "        \n",
    "        # verifica si la lista tenga tamano uno\n",
    "    # si es asi, ya tiene el valor para resolver la ecuacion\n",
    "    if(len(rango) == 1):\n",
    "        # asigna el valor que resuleve la ecuacion\n",
    "        x0 = rango\n",
    "    # realiza un promedio entre los valores del rango encontrado y se elige como punto de partida para el inicio de la aproximacion\n",
    "    else:\n",
    "        # el rango no tenia numeros negativos\n",
    "        if(rango[0] == 0):\n",
    "            x0 = rango[1] / divisiones_promedio\n",
    "        # el rango no tenia valores positivos\n",
    "        elif(rango[1] == 0):\n",
    "            x0 = rango[0] / divisiones_promedio\n",
    "            \n",
    "        elif(rango[0] == float('Inf')):\n",
    "            x0 = genera_valor_inicio(rango[1],divisiones_promedio)          \n",
    "                        \n",
    "        elif(rango[1] == float('-Inf')):\n",
    "            x0 = genera_valor_inicio(rango[0],divisiones_promedio)\n",
    "            \n",
    "        # si el valor del rango[0] es menor que el valor del rango[1]   \n",
    "        elif( abs(0 - rango[0]) < abs(0 - rango[1]) ):\n",
    "\n",
    "            # saco la raiz cuadrada del primer valor y la raiz cubica del segundo valor\n",
    "            # saco el promedio de los valores y los asigno a xo, con 4 cifras significativas\n",
    "            x0 = round(((-abs(rango[0])**(1/raiz_valor_menor) + abs(rango[1])**(1/raiz_valor_mayor)) / 2),4)\n",
    "            \n",
    "        elif( abs(0 - rango[1]) < abs(0 - rango[0]) ):\n",
    "            # saco la raiz cuadrada del segundo valor y la raiz cubica del primer valor\n",
    "            # saco el promedio de los valores y los asigno a xo, con 4 cifras significativas\n",
    "            x0 = round(((-abs(rango[0])**(1/raiz_valor_mayor) + abs(rango[1])**(1/raiz_valor_menor)) / 2),4)\n",
    "\n",
    "        else:\n",
    "            x0 = 0   \n",
    "               \n",
    "    return x0"
   ]
  },
  {
   "cell_type": "code",
   "execution_count": 8,
   "metadata": {},
   "outputs": [],
   "source": [
    "def calculo_aproximacion(x0,y1,y2):\n",
    "\n",
    "    # calcula la funcion con el valor asignado como valor de inicio para la aproximacion\n",
    "    w = y1.subs(x,x0)\n",
    "\n",
    "    # compara el valor de la funcion, para determinar el valor de aproximacion del calculo de la sensibilidad a realizar\n",
    "    if((w < 0) or (w > 0)):\n",
    "\n",
    "       # asigna la sensibilidad declarada\n",
    "        aproximacion = 10**(-sensibilidad_ceros)\n",
    "    # la funcion encontro un valor que daba la solcuion exacta\n",
    "    else:\n",
    "       # como se sabe que la solucion es exacta se aproxima directamente a cero\n",
    "        aproximacion = 0\n",
    "\n",
    "    # solo se calcula si la aproximacion es diferente de cero\n",
    "    # ya que si la aproximacion es cero, es porque habia un valor que resolvia la ecuacion\n",
    "    if(aproximacion != 0):\n",
    "        # inicia el bucle de comparacacion para hallar el valor que satisface la aproximacion deseada de la funcion\n",
    "        while (abs(w) > aproximacion):  \n",
    "\n",
    "            # guarda las coordenadas que se van a usar en la grafica y ver como varia las aproximaciones\n",
    "            coordenadas_x.append(x0)\n",
    "            coordenadas_y.append(w)\n",
    "\n",
    "            #calcula las funciones con el valor de la aproximacion\n",
    "            z1 = y1.subs(x,x0)\n",
    "            z2 = y2.subs(x,x0)\n",
    "            # define la funcion del metodo newton raphson\n",
    "            x1 = x0 - (z1/z2)\n",
    "\n",
    "            # guarda el valor de la aproximacion\n",
    "            x0 = x1.subs(x,x0)\n",
    "\n",
    "            # recalcula w, para compararlo con el valor de sensibilidad deseado y asi hallar el valor que satisfaga la funcion calculada\n",
    "            w = y1.subs(x,x0)\n",
    "\n",
    "    # retorna los valores de la solucion de la aproximacion, primero el valor con que se hace la aproximacion, \n",
    "    # y luego el resultado de evaluar la ecuacion con ese valor            \n",
    "    return x0, w"
   ]
  },
  {
   "cell_type": "code",
   "execution_count": 9,
   "metadata": {},
   "outputs": [],
   "source": [
    "import numpy as np\n",
    "\n",
    "# valor del rango donde se evaluaran los valores de la ecuacion\n",
    "limite   = 10\n",
    "# valor que incrementa entre cada numero generado para evaluar la ecuacion\n",
    "intervalo = 0.1\n",
    "\n",
    "# variable que contiene el intervalo donde estan los valores que permiten definir el valor que aproximar la ecuacion a cero\n",
    "# despues seran reescritos para tener un intervalo mas cercano de inicio\n",
    "# otra manera de declarar el valor infinito\n",
    "rango = [float('-Inf'),float('Inf')]\n",
    "\n",
    "# variable que contendra los valores con los cuales se eveluara la ecuacion\n",
    "conjunto_prueba  = []\n",
    "\n",
    "#estructura repetitiva tipo for, que crea una lista de valores para evaluar la ecuacion\n",
    "for i in np.arange(-limite, limite, intervalo):\n",
    "    conjunto_prueba.append(round(i,1))           \n",
    "    \n",
    "# variable que contendra los valores de la ecuacion evaluada\n",
    "valores = []\n",
    "\n",
    "# coordenadas para graficar y ver como se comporta la aproximacion\n",
    "coordenadas_x = []\n",
    "coordenadas_y = []\n",
    "\n",
    "# variable de control para asegurar el primer valor del intervalo inferior, superior \n",
    "contador_inferior = 0\n",
    "contador_superior = 0\n",
    "\n",
    "# variable utilizada como sensibilidad, cuando no existen valores positivos o negativos en el rango\n",
    "# es el numero de veces en que quiero dividir el valor entre cero y el valor positivo o negativo\n",
    "# para iniciar como valor base para la aproximacion del metodo\n",
    "divisiones_promedio = 10\n",
    "\n",
    "# define la cantidad de ceros con que se quiere con precision la aproximacion\n",
    "sensibilidad_ceros  = 10\n",
    "\n",
    "# valores asignados para las potencias de las raices que se quieren calcular\n",
    "# para sacar el promedio de entre los valores del intervalo, y usarlo como punto de inicio para la aproximacion\n",
    "raiz_valor_menor = 2\n",
    "raiz_valor_mayor = 3"
   ]
  },
  {
   "cell_type": "code",
   "execution_count": 10,
   "metadata": {},
   "outputs": [],
   "source": [
    "# calcula el valor con que se va a iniciar la evaluacion del metodo\n",
    "x0 = valor_inicio(conjunto_prueba,y1,contador_inferior,contador_superior,rango)"
   ]
  },
  {
   "cell_type": "code",
   "execution_count": 11,
   "metadata": {},
   "outputs": [
    {
     "data": {
      "image/png": "[encoded data removed]",
      "text/latex": [
       "$$\\left ( -0.609384362600912, \\quad -1.77635683940025 \\cdot 10^{-15}\\right )$$"
      ],
      "text/plain": [
       "(-0.609384362600912, -1.77635683940025e-15)"
      ]
     },
     "execution_count": 11,
     "metadata": {},
     "output_type": "execute_result"
    }
   ],
   "source": [
    "# guarda la informacion con que se soluciono la ecuacion\n",
    "resultado = calculo_aproximacion(x0,y1,y2)\n",
    "resultado"
   ]
  },
  {
   "cell_type": "code",
   "execution_count": 12,
   "metadata": {},
   "outputs": [],
   "source": [
    "# define el intervalo en que se va a evaluar la funci+on para construir la gráfica\n",
    "# utilizo el operador ternario para quedar con el numero que es mayor en valor absoluto\n",
    "k = abs(rango[0]) if (abs(rango[0]) > abs(rango[1])) else abs(rango[1])\n",
    "l = -k\n",
    "\n",
    "puntos_grafica = definir_valores_grafica(k,l,y1)"
   ]
  },
  {
   "cell_type": "code",
   "execution_count": 17,
   "metadata": {},
   "outputs": [
    {
     "data": {
      "image/png": "[encoded data removed]",
      "text/plain": [
       "<Figure size 2520x360 with 1 Axes>"
      ]
     },
     "metadata": {},
     "output_type": "display_data"
    }
   ],
   "source": [
    "# importar el módulo pyplot\n",
    "import matplotlib.pyplot as plt\n",
    "\n",
    "# define el tamaño de la figura\n",
    "plt.figure(figsize=(35,5))\n",
    "# almacena los valores a mostrar en la figura\n",
    "# pinta los puntos con el simbolo asignado en el marker\n",
    "plt.plot(m,n, marker =\"o\")\n",
    "# define la leyendad del eje x\n",
    "plt.xlabel('x')\n",
    "# define la leyendad del eje y\n",
    "plt.ylabel('y')\n",
    "# define el nombre del gráfico\n",
    "plt.title(metodo + \" cálculado para \" + ecuacion_original)\n",
    "# muestra las lineas del eje X y el eje Y\n",
    "plt.axhline(y=0, color='red')\n",
    "plt.axvline(x=0, color='red')\n",
    "\n",
    "# define la escala de cada eje del gráfico\n",
    "plt.xlim(min(m),max(m))\n",
    "plt.ylim(min(n),max(n))\n",
    "\n",
    "# muestra la figura\n",
    "plt.show()"
   ]
  }
 ],
 "metadata": {
  "kernelspec": {
   "display_name": "Python 3",
   "language": "python",
   "name": "python3"
  },
  "language_info": {
   "codemirror_mode": {
    "name": "ipython",
    "version": 3
   },
   "file_extension": ".py",
   "mimetype": "text/x-python",
   "name": "python",
   "nbconvert_exporter": "python",
   "pygments_lexer": "ipython3",
   "version": "3.6.5"
  }
 },
 "nbformat": 4,
 "nbformat_minor": 2
}
